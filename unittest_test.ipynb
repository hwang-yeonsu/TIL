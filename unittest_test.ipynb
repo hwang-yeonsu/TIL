{
 "cells": [
  {
   "cell_type": "markdown",
   "id": "64baacf2",
   "metadata": {
    "toc": true
   },
   "source": [
    "<h1>Table of Contents<span class=\"tocSkip\"></span></h1>\n",
    "<div class=\"toc\"><ul class=\"toc-item\"><li><span><a href=\"#unittest---단위테스트\" data-toc-modified-id=\"unittest---단위테스트-1\">unittest - 단위테스트</a></span><ul class=\"toc-item\"><li><ul class=\"toc-item\"><li><span><a href=\"#unittest-골격\" data-toc-modified-id=\"unittest-골격-1.0.1\">unittest 골격</a></span></li></ul></li><li><span><a href=\"#1.-0년은-윤년이어야-한다\" data-toc-modified-id=\"1.-0년은-윤년이어야-한다-1.1\">1. 0년은 윤년이어야 한다</a></span></li><li><span><a href=\"#2.-데이터의-중복\" data-toc-modified-id=\"2.-데이터의-중복-1.2\">2. 데이터의 중복</a></span></li><li><span><a href=\"#3.-테스트케이스-추가-및-리팩토링\" data-toc-modified-id=\"3.-테스트케이스-추가-및-리팩토링-1.3\">3. 테스트케이스 추가 및 리팩토링</a></span></li><li><span><a href=\"#4.-검증\" data-toc-modified-id=\"4.-검증-1.4\">4. 검증</a></span></li></ul></li></ul></div>"
   ]
  },
  {
   "cell_type": "markdown",
   "id": "434b7cd8",
   "metadata": {
    "ExecuteTime": {
     "end_time": "2021-10-08T04:22:01.352451Z",
     "start_time": "2021-10-08T04:22:01.321318Z"
    }
   },
   "source": [
    "unittest TDD\n",
    "수업\n",
    "계량경제"
   ]
  },
  {
   "cell_type": "markdown",
   "id": "8e493ec6",
   "metadata": {},
   "source": [
    "# unittest - 단위테스트"
   ]
  },
  {
   "cell_type": "markdown",
   "id": "b98041ea",
   "metadata": {},
   "source": [
    "TDD(Test-Driven Deveplopment) 방식으로 구현\n",
    "1. 구현해야 할 것을 정의한다. (Need)\n",
    "2. 실패하는 테스트를 작성한다. (Test)\n",
    "3. 테스트를 통과하는 코드를 작성한다. (Code)\n",
    "4. 코드를 리팩토링한다. (Refactoring)\n",
    "5. 구현해야 할 것이 있을 때까지 위의 작업을 반복한다.\n",
    "\n",
    "리팩토링은 소스코드의 기능은 유지한 채로 소스코드의 디자인을 개선해 나가는 방법이다."
   ]
  },
  {
   "cell_type": "markdown",
   "id": "0ae895fc",
   "metadata": {},
   "source": [
    "### unittest 골격"
   ]
  },
  {
   "cell_type": "raw",
   "id": "581fe5a8",
   "metadata": {
    "ExecuteTime": {
     "end_time": "2021-10-08T05:13:21.344951Z",
     "start_time": "2021-10-08T05:13:21.259130Z"
    }
   },
   "source": [
    "import unittest\n",
    "\n",
    "# 실제코드\n",
    "def leap_year(year):\n",
    "    pass\n",
    "\n",
    "# 테스트코드\n",
    "class LeapYearTest(unittest.TestCase):\n",
    "    def test_leap_year(self):\n",
    "        pass\n",
    "\n",
    "# 테스트를 진행\n",
    "if __name__ == '__main__':\n",
    "    unittest.main()"
   ]
  },
  {
   "cell_type": "markdown",
   "id": "eb70ffba",
   "metadata": {},
   "source": [
    "## 1. 0년은 윤년이어야 한다"
   ]
  },
  {
   "cell_type": "code",
   "execution_count": 39,
   "id": "7b03f5db",
   "metadata": {
    "ExecuteTime": {
     "end_time": "2021-10-08T06:07:07.320461Z",
     "start_time": "2021-10-08T06:07:07.299474Z"
    },
    "scrolled": false
   },
   "outputs": [
    {
     "name": "stderr",
     "output_type": "stream",
     "text": [
      ".\n",
      "----------------------------------------------------------------------\n",
      "Ran 1 test in 0.002s\n",
      "\n",
      "OK\n"
     ]
    },
    {
     "data": {
      "text/plain": [
       "<unittest.main.TestProgram at 0x23b248ff4c0>"
      ]
     },
     "execution_count": 39,
     "metadata": {},
     "output_type": "execute_result"
    }
   ],
   "source": [
    "import unittest\n",
    "\n",
    "\n",
    "def leap_year(year):\n",
    "    if year == 0:\n",
    "        return True\n",
    "\n",
    "class LeapYearTest(unittest.TestCase):\n",
    "    def test_leap_year(self):\n",
    "        self.assertTrue(leap_year(0))\n",
    "\n",
    "        \n",
    "if __name__ == '__main__':\n",
    "    unittest.main(argv=['first-arg-is-ignored'], exit=False)"
   ]
  },
  {
   "cell_type": "markdown",
   "id": "acedb83c",
   "metadata": {},
   "source": [
    "## 2. 데이터의 중복"
   ]
  },
  {
   "cell_type": "code",
   "execution_count": 40,
   "id": "828807ba",
   "metadata": {
    "ExecuteTime": {
     "end_time": "2021-10-08T06:07:08.053927Z",
     "start_time": "2021-10-08T06:07:08.019948Z"
    }
   },
   "outputs": [
    {
     "name": "stderr",
     "output_type": "stream",
     "text": [
      "F\n",
      "======================================================================\n",
      "FAIL: test_leap_year (__main__.LeapYearTest)\n",
      "----------------------------------------------------------------------\n",
      "Traceback (most recent call last):\n",
      "  File \"<ipython-input-40-4a851a0b9bb2>\", line 9, in test_leap_year\n",
      "    self.assertTrue(leap_year(4))\n",
      "AssertionError: None is not true\n",
      "\n",
      "----------------------------------------------------------------------\n",
      "Ran 1 test in 0.002s\n",
      "\n",
      "FAILED (failures=1)\n"
     ]
    },
    {
     "data": {
      "text/plain": [
       "<unittest.main.TestProgram at 0x23b248ff6a0>"
      ]
     },
     "execution_count": 40,
     "metadata": {},
     "output_type": "execute_result"
    }
   ],
   "source": [
    "def leap_year(year):\n",
    "    if year == 0:\n",
    "        return True\n",
    "\n",
    "class LeapYearTest(unittest.TestCase):\n",
    "    def test_leap_year(self):\n",
    "        self.assertTrue(leap_year(0))\n",
    "        self.assertFalse(leap_year(1))\n",
    "        self.assertTrue(leap_year(4))\n",
    "        ## 둘 다 None을 리턴하지만 None은 False로 처리되어 테스트케이스(1)은 통과\n",
    "\n",
    "        \n",
    "if __name__ == '__main__':\n",
    "    unittest.main(argv=['first-arg-is-ignored'], exit=False)"
   ]
  },
  {
   "cell_type": "code",
   "execution_count": 41,
   "id": "dafe9b2f",
   "metadata": {
    "ExecuteTime": {
     "end_time": "2021-10-08T06:07:08.585252Z",
     "start_time": "2021-10-08T06:07:08.563265Z"
    }
   },
   "outputs": [
    {
     "name": "stderr",
     "output_type": "stream",
     "text": [
      ".\n",
      "----------------------------------------------------------------------\n",
      "Ran 1 test in 0.002s\n",
      "\n",
      "OK\n"
     ]
    },
    {
     "data": {
      "text/plain": [
       "<unittest.main.TestProgram at 0x23b25176fd0>"
      ]
     },
     "execution_count": 41,
     "metadata": {},
     "output_type": "execute_result"
    }
   ],
   "source": [
    "def leap_year(year):\n",
    "    if year == 0:\n",
    "        return True\n",
    "    elif year == 1:\n",
    "        return False\n",
    "    elif year == 4:\n",
    "        return True\n",
    "    ## 데이터 중복\n",
    "\n",
    "class LeapYearTest(unittest.TestCase):\n",
    "    def test_leap_year(self):\n",
    "        self.assertTrue(leap_year(0))\n",
    "        self.assertFalse(leap_year(1))\n",
    "        self.assertTrue(leap_year(4))\n",
    "\n",
    "        \n",
    "if __name__ == '__main__':\n",
    "    unittest.main(argv=['first-arg-is-ignored'], exit=False)"
   ]
  },
  {
   "cell_type": "code",
   "execution_count": 42,
   "id": "98a31aa5",
   "metadata": {
    "ExecuteTime": {
     "end_time": "2021-10-08T06:07:09.503378Z",
     "start_time": "2021-10-08T06:07:09.475394Z"
    }
   },
   "outputs": [
    {
     "name": "stderr",
     "output_type": "stream",
     "text": [
      ".\n",
      "----------------------------------------------------------------------\n",
      "Ran 1 test in 0.002s\n",
      "\n",
      "OK\n"
     ]
    },
    {
     "data": {
      "text/plain": [
       "<unittest.main.TestProgram at 0x23b25176370>"
      ]
     },
     "execution_count": 42,
     "metadata": {},
     "output_type": "execute_result"
    }
   ],
   "source": [
    "def leap_year(year):\n",
    "    if year % 4 == 0:\n",
    "        return True\n",
    "    else:\n",
    "        return False\n",
    "\n",
    "class LeapYearTest(unittest.TestCase):\n",
    "    def test_leap_year(self):\n",
    "        self.assertTrue(leap_year(0))\n",
    "        self.assertFalse(leap_year(1))\n",
    "        self.assertTrue(leap_year(4))\n",
    "\n",
    "\n",
    "if __name__ == '__main__':\n",
    "    unittest.main(argv=['first-arg-is-ignored'], exit=False)"
   ]
  },
  {
   "cell_type": "markdown",
   "id": "8c716667",
   "metadata": {},
   "source": [
    "## 3. 테스트케이스 추가 및 리팩토링"
   ]
  },
  {
   "cell_type": "code",
   "execution_count": 45,
   "id": "a812a68f",
   "metadata": {
    "ExecuteTime": {
     "end_time": "2021-10-08T06:08:23.712011Z",
     "start_time": "2021-10-08T06:08:23.674036Z"
    }
   },
   "outputs": [
    {
     "name": "stderr",
     "output_type": "stream",
     "text": [
      "F\n",
      "======================================================================\n",
      "FAIL: test_leap_year (__main__.LeapYearTest)\n",
      "----------------------------------------------------------------------\n",
      "Traceback (most recent call last):\n",
      "  File \"<ipython-input-45-f7b7f0f5c1d1>\", line 13, in test_leap_year\n",
      "    self.assertFalse(leap_year(700))\n",
      "AssertionError: True is not false\n",
      "\n",
      "----------------------------------------------------------------------\n",
      "Ran 1 test in 0.002s\n",
      "\n",
      "FAILED (failures=1)\n"
     ]
    },
    {
     "data": {
      "text/plain": [
       "<unittest.main.TestProgram at 0x23b249255b0>"
      ]
     },
     "execution_count": 45,
     "metadata": {},
     "output_type": "execute_result"
    }
   ],
   "source": [
    "def leap_year(year):\n",
    "    if year % 4 == 0:\n",
    "        return True\n",
    "    else:\n",
    "        return False\n",
    "\n",
    "class LeapYearTest(unittest.TestCase):\n",
    "    def test_leap_year(self):\n",
    "        self.assertTrue(leap_year(0))\n",
    "        self.assertFalse(leap_year(1))\n",
    "        self.assertTrue(leap_year(4))\n",
    "        self.assertTrue(leap_year(1200))\n",
    "        self.assertFalse(leap_year(700))\n",
    "        ## 테스트케이스 추가\n",
    "\n",
    "        \n",
    "if __name__ == '__main__':\n",
    "    unittest.main(argv=['first-arg-is-ignored'], exit=False)"
   ]
  },
  {
   "cell_type": "code",
   "execution_count": 46,
   "id": "1b0e6ce7",
   "metadata": {
    "ExecuteTime": {
     "end_time": "2021-10-08T06:08:24.399003Z",
     "start_time": "2021-10-08T06:08:24.370019Z"
    }
   },
   "outputs": [
    {
     "name": "stderr",
     "output_type": "stream",
     "text": [
      ".\n",
      "----------------------------------------------------------------------\n",
      "Ran 1 test in 0.002s\n",
      "\n",
      "OK\n"
     ]
    },
    {
     "data": {
      "text/plain": [
       "<unittest.main.TestProgram at 0x23b246cfdf0>"
      ]
     },
     "execution_count": 46,
     "metadata": {},
     "output_type": "execute_result"
    }
   ],
   "source": [
    "def leap_year(year):\n",
    "    if year % 400 == 0:\n",
    "        return True\n",
    "    elif year % 100 == 0:\n",
    "        return False\n",
    "    elif year % 4 == 0:\n",
    "        return True\n",
    "    else:\n",
    "        return False\n",
    "\n",
    "class LeapYearTest(unittest.TestCase):\n",
    "    def test_leap_year(self):\n",
    "        self.assertTrue(leap_year(0))\n",
    "        self.assertFalse(leap_year(1))\n",
    "        self.assertTrue(leap_year(4))\n",
    "        self.assertTrue(leap_year(1200))\n",
    "        self.assertFalse(leap_year(700))\n",
    "\n",
    "        \n",
    "if __name__ == '__main__':\n",
    "    unittest.main(argv=['first-arg-is-ignored'], exit=False)"
   ]
  },
  {
   "cell_type": "markdown",
   "id": "7e215128",
   "metadata": {},
   "source": [
    "## 4. 검증"
   ]
  },
  {
   "cell_type": "code",
   "execution_count": 48,
   "id": "435bae46",
   "metadata": {
    "ExecuteTime": {
     "end_time": "2021-10-08T06:10:13.739625Z",
     "start_time": "2021-10-08T06:10:13.710642Z"
    },
    "scrolled": true
   },
   "outputs": [
    {
     "name": "stderr",
     "output_type": "stream",
     "text": [
      "..\n",
      "----------------------------------------------------------------------\n",
      "Ran 2 tests in 0.004s\n",
      "\n",
      "OK\n"
     ]
    },
    {
     "data": {
      "text/plain": [
       "<unittest.main.TestProgram at 0x23b2488a850>"
      ]
     },
     "execution_count": 48,
     "metadata": {},
     "output_type": "execute_result"
    }
   ],
   "source": [
    "def leap_year(year):\n",
    "    if year % 400 == 0:\n",
    "        return True\n",
    "    elif year % 100 == 0:\n",
    "        return False\n",
    "    elif year % 4 == 0:\n",
    "        return True\n",
    "    else:\n",
    "        return False\n",
    "\n",
    "class LeapYearTest(unittest.TestCase):\n",
    "    def test_leap_year(self):\n",
    "        self.assertTrue(leap_year(0))\n",
    "        self.assertFalse(leap_year(1))\n",
    "        self.assertTrue(leap_year(4))\n",
    "        self.assertTrue(leap_year(1200))\n",
    "        self.assertFalse(leap_year(700))\n",
    "        \n",
    "    def test_same_calendar(self):\n",
    "        import calendar\n",
    "        for year in (1, 100000):\n",
    "            self.assertEqual(leap_year(year), calendar.isleap(year))\n",
    "        ## python 내장모듈 활용\n",
    "            \n",
    "if __name__ == '__main__':\n",
    "    unittest.main(argv=['first-arg-is-ignored'], exit=False)"
   ]
  },
  {
   "cell_type": "markdown",
   "id": "2062b0b2",
   "metadata": {},
   "source": [
    "TDD 기법과 unittest를 활용하여 함수 구현"
   ]
  }
 ],
 "metadata": {
  "kernelspec": {
   "display_name": "Python 3",
   "language": "python",
   "name": "python3"
  },
  "language_info": {
   "codemirror_mode": {
    "name": "ipython",
    "version": 3
   },
   "file_extension": ".py",
   "mimetype": "text/x-python",
   "name": "python",
   "nbconvert_exporter": "python",
   "pygments_lexer": "ipython3",
   "version": "3.8.11"
  },
  "toc": {
   "base_numbering": 1,
   "nav_menu": {},
   "number_sections": false,
   "sideBar": true,
   "skip_h1_title": false,
   "title_cell": "Table of Contents",
   "title_sidebar": "Contents",
   "toc_cell": true,
   "toc_position": {
    "height": "calc(100% - 180px)",
    "left": "10px",
    "top": "150px",
    "width": "165px"
   },
   "toc_section_display": true,
   "toc_window_display": true
  },
  "varInspector": {
   "cols": {
    "lenName": 16,
    "lenType": 16,
    "lenVar": 40
   },
   "kernels_config": {
    "python": {
     "delete_cmd_postfix": "",
     "delete_cmd_prefix": "del ",
     "library": "var_list.py",
     "varRefreshCmd": "print(var_dic_list())"
    },
    "r": {
     "delete_cmd_postfix": ") ",
     "delete_cmd_prefix": "rm(",
     "library": "var_list.r",
     "varRefreshCmd": "cat(var_dic_list()) "
    }
   },
   "types_to_exclude": [
    "module",
    "function",
    "builtin_function_or_method",
    "instance",
    "_Feature"
   ],
   "window_display": false
  }
 },
 "nbformat": 4,
 "nbformat_minor": 5
}
