{
 "cells": [
  {
   "cell_type": "markdown",
   "id": "a23398ff",
   "metadata": {
    "toc": true
   },
   "source": [
    "<h1>Table of Contents<span class=\"tocSkip\"></span></h1>\n",
    "<div class=\"toc\"><ul class=\"toc-item\"><li><span><a href=\"#Closure\" data-toc-modified-id=\"Closure-1\">Closure</a></span><ul class=\"toc-item\"><li><span><a href=\"#First-Class-Object\" data-toc-modified-id=\"First-Class-Object-1.1\">First Class Object</a></span></li><li><span><a href=\"#기본-예제\" data-toc-modified-id=\"기본-예제-1.2\">기본 예제</a></span><ul class=\"toc-item\"><li><span><a href=\"#내부-함수에서-외부-변수에-액세스\" data-toc-modified-id=\"내부-함수에서-외부-변수에-액세스-1.2.1\">내부 함수에서 외부 변수에 액세스</a></span></li></ul></li><li><span><a href=\"#Fibonacci\" data-toc-modified-id=\"Fibonacci-1.3\">Fibonacci</a></span><ul class=\"toc-item\"><li><span><a href=\"#재귀함수와-비교\" data-toc-modified-id=\"재귀함수와-비교-1.3.1\">재귀함수와 비교</a></span></li></ul></li><li><span><a href=\"#Grade-classifier\" data-toc-modified-id=\"Grade-classifier-1.4\">Grade classifier</a></span></li><li><span><a href=\"#Cache와-Decorator\" data-toc-modified-id=\"Cache와-Decorator-1.5\">Cache와 Decorator</a></span><ul class=\"toc-item\"><li><span><a href=\"#스코프\" data-toc-modified-id=\"스코프-1.5.1\">스코프</a></span></li></ul></li><li><span><a href=\"#여러-함수의-Cache\" data-toc-modified-id=\"여러-함수의-Cache-1.6\">여러 함수의 Cache</a></span><ul class=\"toc-item\"><li><span><a href=\"#__-closure-__,-cell_contents\" data-toc-modified-id=\"__-closure-__,-cell_contents-1.6.1\">__ closure __, cell_contents</a></span></li></ul></li></ul></li><li><span><a href=\"#Conclusion\" data-toc-modified-id=\"Conclusion-2\">Conclusion</a></span><ul class=\"toc-item\"><li><span><a href=\"#Ref\" data-toc-modified-id=\"Ref-2.1\">Ref</a></span></li></ul></li></ul></div>"
   ]
  },
  {
   "cell_type": "markdown",
   "id": "c83145a0",
   "metadata": {},
   "source": [
    "# Closure\n",
    "재귀함수의 대안으로 활용할 수 있는 Python의 기능"
   ]
  },
  {
   "cell_type": "markdown",
   "id": "f31c79be",
   "metadata": {},
   "source": [
    "## First Class Object\n",
    "    \n",
    "- 프로그래밍 언어에서 First Class Object(또는 First Class Citizen, 일급 객체)는 해당 언어 내에서 일반적으로 다른 모든 개체에 통용가능한 동작(operation)이 지원되는 개체(entity)를 의미한다.\n",
    "\n",
    "    이 동작은 주로\n",
    "    - 함수의 인자로 전달되거나,\n",
    "    - 함수의 반환값이 되거나,\n",
    "    - 수정되고 할당되는 것들을 전제로 한다.\n",
    "\n",
    "\n",
    "- 예를들어, C 언어에서는 함수의 인자로 함수의 포인터를 전달할 수는 있어도, 함수의 이름을 전달할 수는 없다. 포인터가 일급 객체라는 표현은 맞아도 함수가 일급 객체라는 표현은 적절하지 않은 것.\n",
    "\n",
    "    <span class=\"mark\">반면 파이썬에서는 함수도 1급 객체이다. 함수에는 기본 자료타입들에 적용가능한 동작들이 똑같이 적용 가능하다.</span>\n",
    "    \n",
    "    \n",
    "- 어떤 함수가 클로저이기 위해서는 다음의 세 가지 조건을 만족해야 한다.\n",
    "    1. 해당 함수는 어떤 함수 내의 중첩된 함수여야 한다.\n",
    "    2. 해당 함수는 자신을 둘러싼(enclose) 함수 내의 상태값을 반드시 참조해야 한다.\n",
    "    3. 해당 함수를 둘러싼 함수는 이 함수를 반환해야 한다."
   ]
  },
  {
   "cell_type": "markdown",
   "id": "0128ab54",
   "metadata": {},
   "source": [
    "## 기본 예제"
   ]
  },
  {
   "cell_type": "code",
   "execution_count": 130,
   "id": "db5ec7d5",
   "metadata": {
    "ExecuteTime": {
     "end_time": "2021-11-04T11:54:08.599233Z",
     "start_time": "2021-11-04T11:54:08.580229Z"
    }
   },
   "outputs": [],
   "source": [
    "def outer():\n",
    "    x = 1\n",
    "    def inner():\n",
    "        print(f'x in outer function: {x}')\n",
    "    return inner"
   ]
  },
  {
   "cell_type": "code",
   "execution_count": 131,
   "id": "38907b3b",
   "metadata": {
    "ExecuteTime": {
     "end_time": "2021-11-04T11:54:09.487170Z",
     "start_time": "2021-11-04T11:54:09.467184Z"
    }
   },
   "outputs": [
    {
     "name": "stdout",
     "output_type": "stream",
     "text": [
      "x in outer function: 1\n"
     ]
    }
   ],
   "source": [
    "f = outer()\n",
    "f()"
   ]
  },
  {
   "cell_type": "markdown",
   "id": "7d898d0e",
   "metadata": {},
   "source": [
    "### 내부 함수에서 외부 변수에 액세스"
   ]
  },
  {
   "cell_type": "code",
   "execution_count": 132,
   "id": "4c74accd",
   "metadata": {
    "ExecuteTime": {
     "end_time": "2021-11-04T11:54:23.527034Z",
     "start_time": "2021-11-04T11:54:23.509067Z"
    }
   },
   "outputs": [],
   "source": [
    "def outer():\n",
    "    x = 1\n",
    "    def inner():\n",
    "        nonlocal x\n",
    "        print(f'x in outer function (before modifying): {x}')\n",
    "        x += 1\n",
    "        print(f'x in outer function (after modifying): {x}')\n",
    "    return inner"
   ]
  },
  {
   "cell_type": "code",
   "execution_count": 133,
   "id": "7307f022",
   "metadata": {
    "ExecuteTime": {
     "end_time": "2021-11-04T11:54:25.267741Z",
     "start_time": "2021-11-04T11:54:25.249733Z"
    }
   },
   "outputs": [
    {
     "name": "stdout",
     "output_type": "stream",
     "text": [
      "Run 1\n",
      "x in outer function (before modifying): 1\n",
      "x in outer function (after modifying): 2\n",
      "\n",
      "Run 2\n",
      "x in outer function (before modifying): 2\n",
      "x in outer function (after modifying): 3\n",
      "\n",
      "Run 3\n",
      "x in outer function (before modifying): 3\n",
      "x in outer function (after modifying): 4\n",
      "\n",
      "Run 4\n",
      "x in outer function (before modifying): 4\n",
      "x in outer function (after modifying): 5\n",
      "\n",
      "Run 5\n",
      "x in outer function (before modifying): 5\n",
      "x in outer function (after modifying): 6\n",
      "\n"
     ]
    }
   ],
   "source": [
    "f = outer()\n",
    "for i in range(5):\n",
    "    print(f'Run {i+1}')\n",
    "    f()\n",
    "    print()"
   ]
  },
  {
   "cell_type": "markdown",
   "id": "e90c4a29",
   "metadata": {},
   "source": [
    "- 이때, x는 정수형 변수로 immutable하기 때문에 nonlocal 혹은 global로 선언해야 하지만, mutable한 list 등의 자료형은 내부 값의 참조가 가능하다.(shallow copy)"
   ]
  },
  {
   "cell_type": "markdown",
   "id": "c7686ea4",
   "metadata": {},
   "source": [
    "## Fibonacci"
   ]
  },
  {
   "cell_type": "code",
   "execution_count": 134,
   "id": "1b28c5e2",
   "metadata": {
    "ExecuteTime": {
     "end_time": "2021-11-04T11:54:47.544603Z",
     "start_time": "2021-11-04T11:54:47.538609Z"
    }
   },
   "outputs": [],
   "source": [
    "def fib():\n",
    "    x0,x1 = 0,1\n",
    "    def get_next_number():\n",
    "        nonlocal x0, x1\n",
    "        x0, x1 = x1, x0 + x1\n",
    "        return x1\n",
    "    return get_next_number"
   ]
  },
  {
   "cell_type": "code",
   "execution_count": 135,
   "id": "a3e2c3bc",
   "metadata": {
    "ExecuteTime": {
     "end_time": "2021-11-04T11:54:50.135887Z",
     "start_time": "2021-11-04T11:54:50.123894Z"
    }
   },
   "outputs": [
    {
     "name": "stdout",
     "output_type": "stream",
     "text": [
      "The 2th Fibonacci number is 1\n",
      "The 3th Fibonacci number is 2\n",
      "The 4th Fibonacci number is 3\n",
      "The 5th Fibonacci number is 5\n",
      "The 6th Fibonacci number is 8\n",
      "The 7th Fibonacci number is 13\n",
      "The 8th Fibonacci number is 21\n",
      "The 9th Fibonacci number is 34\n",
      "The 10th Fibonacci number is 55\n",
      "The 11th Fibonacci number is 89\n",
      "The 12th Fibonacci number is 144\n",
      "The 13th Fibonacci number is 233\n",
      "The 14th Fibonacci number is 377\n",
      "The 15th Fibonacci number is 610\n",
      "The 16th Fibonacci number is 987\n",
      "The 17th Fibonacci number is 1597\n",
      "The 18th Fibonacci number is 2584\n",
      "The 19th Fibonacci number is 4181\n",
      "The 20th Fibonacci number is 6765\n"
     ]
    }
   ],
   "source": [
    "fibonacci = fib()\n",
    "for i in range(2, 21):\n",
    "    num = fibonacci()\n",
    "    print(f'The {i}th Fibonacci number is {num}')"
   ]
  },
  {
   "cell_type": "markdown",
   "id": "790eb219",
   "metadata": {},
   "source": [
    "### 재귀함수와 비교"
   ]
  },
  {
   "cell_type": "code",
   "execution_count": 136,
   "id": "64edc276",
   "metadata": {
    "ExecuteTime": {
     "end_time": "2021-11-04T11:55:00.434982Z",
     "start_time": "2021-11-04T11:55:00.422986Z"
    }
   },
   "outputs": [],
   "source": [
    "def fib_recursion(n):\n",
    "    if n == 0:\n",
    "        return 0\n",
    "    elif n == 1:\n",
    "        return 1\n",
    "    else:\n",
    "        return fib_recursion(n-1) + fib_recursion(n-2)"
   ]
  },
  {
   "cell_type": "code",
   "execution_count": 137,
   "id": "746146f7",
   "metadata": {
    "ExecuteTime": {
     "end_time": "2021-11-04T11:55:05.864734Z",
     "start_time": "2021-11-04T11:55:01.207059Z"
    }
   },
   "outputs": [
    {
     "name": "stdout",
     "output_type": "stream",
     "text": [
      "5.7 ms ± 605 µs per loop (mean ± std. dev. of 7 runs, 100 loops each)\n"
     ]
    }
   ],
   "source": [
    "%timeit fib_recursion(20)"
   ]
  },
  {
   "cell_type": "code",
   "execution_count": 138,
   "id": "0e9353cf",
   "metadata": {
    "ExecuteTime": {
     "end_time": "2021-11-04T11:55:05.927701Z",
     "start_time": "2021-11-04T11:55:05.901715Z"
    }
   },
   "outputs": [],
   "source": [
    "def fib_closure(n):\n",
    "    f = fib()\n",
    "    for i in range(2, n+1):\n",
    "        num = f()\n",
    "    return num"
   ]
  },
  {
   "cell_type": "code",
   "execution_count": 140,
   "id": "b6dbfd02",
   "metadata": {
    "ExecuteTime": {
     "end_time": "2021-11-04T11:57:21.907867Z",
     "start_time": "2021-11-04T11:57:17.292111Z"
    }
   },
   "outputs": [
    {
     "name": "stdout",
     "output_type": "stream",
     "text": [
      "5.7 µs ± 550 ns per loop (mean ± std. dev. of 7 runs, 100000 loops each)\n"
     ]
    }
   ],
   "source": [
    "%timeit fib_closure(20)"
   ]
  },
  {
   "cell_type": "markdown",
   "id": "26bf1f5d",
   "metadata": {},
   "source": [
    "> fib_recursion: 5.7 ms<br/>fib_closure: 5.7 µs\n",
    "\n",
    "- 클로저 방식이 재귀 방식보다 약 1000배 빠르다. 가장 직관적인 이유로 재귀함수는 모든 재귀 수준에 대한 모든 임시 값이 개별적으로 메모리에 저장되지만 클로저는 실제로 모든 루프에서 동일한 변수를 업데이트하기 때문이다.\n",
    "- 또한 재귀에 대한 깊이 제한이 있다. 클로저의 경우 기본적으로 for 루프이므로 제약 조건이 없음."
   ]
  },
  {
   "cell_type": "code",
   "execution_count": 141,
   "id": "6a2159f5",
   "metadata": {
    "ExecuteTime": {
     "end_time": "2021-11-04T12:00:30.187767Z",
     "start_time": "2021-11-04T12:00:30.169777Z"
    }
   },
   "outputs": [
    {
     "data": {
      "text/plain": [
       "43466557686937456435688527675040625802564660517371780402481729089536555417949051890403879840079255169295922593080322634775209689623239873322471161642996440906533187938298969649928516003704476137795166849228875"
      ]
     },
     "execution_count": 141,
     "metadata": {},
     "output_type": "execute_result"
    }
   ],
   "source": [
    "## 아주 큰 값도 빠르게 계산 가능\n",
    "fib_closure(1000)"
   ]
  },
  {
   "cell_type": "markdown",
   "id": "695695f3",
   "metadata": {},
   "source": [
    "## Grade classifier"
   ]
  },
  {
   "cell_type": "code",
   "execution_count": 142,
   "id": "eada6fb7",
   "metadata": {
    "ExecuteTime": {
     "end_time": "2021-11-04T12:01:10.251709Z",
     "start_time": "2021-11-04T12:01:10.237700Z"
    }
   },
   "outputs": [],
   "source": [
    "students = {\n",
    "    'Alice': 98,\n",
    "    'Bob': 67,\n",
    "    'Chris': 85,\n",
    "    'David': 75,\n",
    "    'Ella': 54,\n",
    "    'Fiona': 35,\n",
    "    'Grace': 69\n",
    "}\n",
    "\n",
    "def make_student_classifier(lower_bound, upper_bound):\n",
    "    def classify_student(exam_dict):\n",
    "        return {k:v for (k,v) in exam_dict.items() if lower_bound <= v < upper_bound}\n",
    "    return classify_student"
   ]
  },
  {
   "cell_type": "code",
   "execution_count": 143,
   "id": "d80d75dc",
   "metadata": {
    "ExecuteTime": {
     "end_time": "2021-11-04T12:01:13.123544Z",
     "start_time": "2021-11-04T12:01:13.109537Z"
    }
   },
   "outputs": [],
   "source": [
    "grade_A = make_student_classifier(80, 100)\n",
    "grade_B = make_student_classifier(70, 80)\n",
    "grade_C = make_student_classifier(50, 70)\n",
    "grade_D = make_student_classifier(0, 50)"
   ]
  },
  {
   "cell_type": "code",
   "execution_count": 146,
   "id": "6bb927ac",
   "metadata": {
    "ExecuteTime": {
     "end_time": "2021-11-04T12:02:01.712020Z",
     "start_time": "2021-11-04T12:02:01.688010Z"
    }
   },
   "outputs": [
    {
     "data": {
      "text/plain": [
       "\"A: {'Alice': 98, 'Chris': 85}\""
      ]
     },
     "execution_count": 146,
     "metadata": {},
     "output_type": "execute_result"
    },
    {
     "data": {
      "text/plain": [
       "\"B: {'David': 75}\""
      ]
     },
     "execution_count": 146,
     "metadata": {},
     "output_type": "execute_result"
    },
    {
     "data": {
      "text/plain": [
       "\"C: {'Bob': 67, 'Ella': 54, 'Grace': 69}\""
      ]
     },
     "execution_count": 146,
     "metadata": {},
     "output_type": "execute_result"
    },
    {
     "data": {
      "text/plain": [
       "\"D: {'Fiona': 35}\""
      ]
     },
     "execution_count": 146,
     "metadata": {},
     "output_type": "execute_result"
    }
   ],
   "source": [
    "f'A: {grade_A(students)}'\n",
    "f'B: {grade_B(students)}'\n",
    "f'C: {grade_C(students)}'\n",
    "f'D: {grade_D(students)}'"
   ]
  },
  {
   "cell_type": "markdown",
   "id": "5cce5dd0",
   "metadata": {},
   "source": [
    "## Cache와 Decorator"
   ]
  },
  {
   "cell_type": "code",
   "execution_count": 318,
   "id": "dd898edb",
   "metadata": {
    "ExecuteTime": {
     "end_time": "2021-11-04T13:21:21.857560Z",
     "start_time": "2021-11-04T13:21:21.816569Z"
    },
    "scrolled": true
   },
   "outputs": [
    {
     "name": "stdout",
     "output_type": "stream",
     "text": [
      "{}\n"
     ]
    },
    {
     "data": {
      "text/plain": [
       "120"
      ]
     },
     "execution_count": 318,
     "metadata": {},
     "output_type": "execute_result"
    },
    {
     "name": "stdout",
     "output_type": "stream",
     "text": [
      "{5: 120}\n"
     ]
    },
    {
     "data": {
      "text/plain": [
       "6"
      ]
     },
     "execution_count": 318,
     "metadata": {},
     "output_type": "execute_result"
    },
    {
     "name": "stdout",
     "output_type": "stream",
     "text": [
      "{5: 120, 3: 6}\n"
     ]
    },
    {
     "data": {
      "text/plain": [
       "1307674368000"
      ]
     },
     "execution_count": 318,
     "metadata": {},
     "output_type": "execute_result"
    },
    {
     "name": "stdout",
     "output_type": "stream",
     "text": [
      "{5: 120, 3: 6, 15: 1307674368000}\n"
     ]
    },
    {
     "data": {
      "text/plain": [
       "1"
      ]
     },
     "execution_count": 318,
     "metadata": {},
     "output_type": "execute_result"
    }
   ],
   "source": [
    "from functools import wraps\n",
    "\n",
    "def in_cache(func):\n",
    "    cache = {}\n",
    "    @wraps(func)\n",
    "    def wrapper(n):\n",
    "        print(cache) ## !!!!\n",
    "        if n in cache:\n",
    "            return cache[n]\n",
    "        else:\n",
    "            cache[n] = func(n)\n",
    "            return cache[n]\n",
    "    return wrapper\n",
    "\n",
    "## without decorator\n",
    "# factorial = in_cache(factorial)\n",
    "# factorial(5)\n",
    "\n",
    "@in_cache\n",
    "def factorial(n):\n",
    "    '''factorial docstring'''\n",
    "    ret = 1\n",
    "    for i in range(1, n+1):\n",
    "        ret *= i\n",
    "    return ret\n",
    "\n",
    "factorial(5)\n",
    "factorial(3)\n",
    "factorial(15)\n",
    "factorial(0)"
   ]
  },
  {
   "cell_type": "code",
   "execution_count": 319,
   "id": "ece93f2c",
   "metadata": {
    "ExecuteTime": {
     "end_time": "2021-11-04T13:21:24.461121Z",
     "start_time": "2021-11-04T13:21:24.441141Z"
    }
   },
   "outputs": [
    {
     "data": {
      "text/plain": [
       "'factorial'"
      ]
     },
     "execution_count": 319,
     "metadata": {},
     "output_type": "execute_result"
    },
    {
     "data": {
      "text/plain": [
       "'factorial docstring'"
      ]
     },
     "execution_count": 319,
     "metadata": {},
     "output_type": "execute_result"
    }
   ],
   "source": [
    "## debugging을 위해 decorator를 만들땐 wraps를 사용하자\n",
    "factorial.__name__\n",
    "factorial.__doc__"
   ]
  },
  {
   "cell_type": "markdown",
   "id": "11e039fe",
   "metadata": {},
   "source": [
    "<span class=\"mark\">deco → func1, func2</span> : 데코레이터 하나로 여러 함수에 적용할 때\n",
    "\n",
    "<span class=\"mark\">first class object ← deco1, deco2</span> : 하나의 함수에 여러 데코레이터를 적용할 때"
   ]
  },
  {
   "cell_type": "markdown",
   "id": "25883470",
   "metadata": {},
   "source": [
    "### 스코프\n",
    "클로저는 자체 스코프를 가지고 있어, cache라는 상태는 매번 실행할 때마다 초기화되는 것이 아니라 값이 유지되고 있다. 마치 전역공간에 선언이라도 했듯이 말이다."
   ]
  },
  {
   "cell_type": "code",
   "execution_count": 320,
   "id": "4cd611ac",
   "metadata": {
    "ExecuteTime": {
     "end_time": "2021-11-04T13:21:33.536144Z",
     "start_time": "2021-11-04T13:21:33.508164Z"
    }
   },
   "outputs": [
    {
     "data": {
      "text/plain": [
       "15"
      ]
     },
     "execution_count": 320,
     "metadata": {},
     "output_type": "execute_result"
    },
    {
     "data": {
      "text/plain": [
       "20"
      ]
     },
     "execution_count": 320,
     "metadata": {},
     "output_type": "execute_result"
    }
   ],
   "source": [
    "def times_multiply(n):\n",
    "    def multiply(x):\n",
    "        return n * x\n",
    "    return multiply\n",
    "\n",
    "\n",
    "times_3 = times_multiply(3)\n",
    "times_4 = times_multiply(4)\n",
    "\n",
    "times_3(5)\n",
    "times_4(5)"
   ]
  },
  {
   "cell_type": "code",
   "execution_count": 321,
   "id": "337f957d",
   "metadata": {
    "ExecuteTime": {
     "end_time": "2021-11-04T13:21:34.025700Z",
     "start_time": "2021-11-04T13:21:34.013709Z"
    }
   },
   "outputs": [
    {
     "data": {
      "text/plain": [
       "3"
      ]
     },
     "execution_count": 321,
     "metadata": {},
     "output_type": "execute_result"
    }
   ],
   "source": [
    "times_3.__closure__[0].cell_contents"
   ]
  },
  {
   "cell_type": "markdown",
   "id": "65b9c982",
   "metadata": {},
   "source": [
    "- 클로저는 자신을 둘러싼 함수 스코프의 상태값을 참조하는데, 이 값은 함수가 메모리에서 사라져도 값이 유지가 된다."
   ]
  },
  {
   "cell_type": "markdown",
   "id": "1261fe81",
   "metadata": {},
   "source": [
    "## 여러 함수의 Cache\n",
    "<span class=\"mark\">각 함수의 캐시를 따로 관리할 수 있음!!</span>"
   ]
  },
  {
   "cell_type": "markdown",
   "id": "5e682307",
   "metadata": {},
   "source": [
    "<img src=\"data:image/png;base64,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\" width=\"600\" height=\"600\" align=\"left\">"
   ]
  },
  {
   "cell_type": "code",
   "execution_count": 322,
   "id": "791ebeef",
   "metadata": {
    "ExecuteTime": {
     "end_time": "2021-11-04T13:21:43.067027Z",
     "start_time": "2021-11-04T13:21:43.046041Z"
    }
   },
   "outputs": [
    {
     "name": "stdout",
     "output_type": "stream",
     "text": [
      "{}\n"
     ]
    },
    {
     "data": {
      "text/plain": [
       "15"
      ]
     },
     "execution_count": 322,
     "metadata": {},
     "output_type": "execute_result"
    },
    {
     "name": "stdout",
     "output_type": "stream",
     "text": [
      "{5: 15}\n"
     ]
    },
    {
     "data": {
      "text/plain": [
       "3"
      ]
     },
     "execution_count": 322,
     "metadata": {},
     "output_type": "execute_result"
    }
   ],
   "source": [
    "@in_cache\n",
    "def sum_to_N(N):\n",
    "    s = 0\n",
    "    for n in range(N+1):\n",
    "        s += n\n",
    "    return s\n",
    "\n",
    "\n",
    "sum_to_N(5)\n",
    "sum_to_N(2)"
   ]
  },
  {
   "cell_type": "code",
   "execution_count": 323,
   "id": "f4d409f1",
   "metadata": {
    "ExecuteTime": {
     "end_time": "2021-11-04T13:21:43.970657Z",
     "start_time": "2021-11-04T13:21:43.954667Z"
    },
    "scrolled": true
   },
   "outputs": [
    {
     "name": "stdout",
     "output_type": "stream",
     "text": [
      "{5: 120, 3: 6, 15: 1307674368000, 0: 1}\n"
     ]
    },
    {
     "data": {
      "text/plain": [
       "'fac(10): 3628800'"
      ]
     },
     "execution_count": 323,
     "metadata": {},
     "output_type": "execute_result"
    },
    {
     "name": "stdout",
     "output_type": "stream",
     "text": [
      "{5: 15, 2: 3}\n"
     ]
    },
    {
     "data": {
      "text/plain": [
       "'sum(10): 55'"
      ]
     },
     "execution_count": 323,
     "metadata": {},
     "output_type": "execute_result"
    }
   ],
   "source": [
    "f'fac(10): {factorial(10)}'\n",
    "f'sum(10): {sum_to_N(10)}'"
   ]
  },
  {
   "cell_type": "markdown",
   "id": "ad68eeed",
   "metadata": {},
   "source": [
    "### __ closure __, cell_contents\n",
    "Enclosing하고 있는 변수에 접근하는 것을 지원한다. 이 변수는 튜플 타입으로서 클로저가 enclosing 스코프에서 참조하는 변수들을 담고 있다. 그리고 각 원소의 cell_contents 는 그 값 자체를 갖고 있다."
   ]
  },
  {
   "cell_type": "code",
   "execution_count": 324,
   "id": "81157c3d",
   "metadata": {
    "ExecuteTime": {
     "end_time": "2021-11-04T13:21:46.720970Z",
     "start_time": "2021-11-04T13:21:46.693987Z"
    }
   },
   "outputs": [
    {
     "data": {
      "text/plain": [
       "(<cell at 0x0000012D08A35490: dict object at 0x0000012D08190980>,\n",
       " <cell at 0x0000012D08A353D0: function object at 0x0000012D087B45E0>)"
      ]
     },
     "execution_count": 324,
     "metadata": {},
     "output_type": "execute_result"
    },
    {
     "data": {
      "text/plain": [
       "{5: 120, 3: 6, 15: 1307674368000, 0: 1, 10: 3628800}"
      ]
     },
     "execution_count": 324,
     "metadata": {},
     "output_type": "execute_result"
    },
    {
     "data": {
      "text/plain": [
       "5040"
      ]
     },
     "execution_count": 324,
     "metadata": {},
     "output_type": "execute_result"
    }
   ],
   "source": [
    "factorial.__closure__\n",
    "factorial.__closure__[0].cell_contents\n",
    "factorial.__closure__[1].cell_contents(7)"
   ]
  },
  {
   "cell_type": "markdown",
   "id": "b8b8ba57",
   "metadata": {},
   "source": [
    "# Conclusion"
   ]
  },
  {
   "cell_type": "markdown",
   "id": "4c657aeb",
   "metadata": {},
   "source": [
    "- DP를 능가하지는 않지만 사고 측면에서 훨씬 쉽다.\n",
    "- 특히 DP를 적용할 수 있는 경우 성능 측면에서 일부 문제에 대해 Closure가 최상의 솔루션이 아닐 수 있다. 그러나 생각하기가 훨씬 쉬움.\n",
    "- Closure는 우리가 만족시킬 클래스를 정의하고자 하는 일부 사용 사례를 대체하는 데에도 사용할 수 있다. 이 경우 훨씬 깔끔하고 우아하다."
   ]
  },
  {
   "cell_type": "markdown",
   "id": "09542768",
   "metadata": {},
   "source": [
    "## Ref\n",
    "https://shoark7.github.io/programming/python/closure-in-python"
   ]
  }
 ],
 "metadata": {
  "kernelspec": {
   "display_name": "Python 3",
   "language": "python",
   "name": "python3"
  },
  "language_info": {
   "codemirror_mode": {
    "name": "ipython",
    "version": 3
   },
   "file_extension": ".py",
   "mimetype": "text/x-python",
   "name": "python",
   "nbconvert_exporter": "python",
   "pygments_lexer": "ipython3",
   "version": "3.8.11"
  },
  "toc": {
   "base_numbering": 1,
   "nav_menu": {},
   "number_sections": false,
   "sideBar": true,
   "skip_h1_title": false,
   "title_cell": "Table of Contents",
   "title_sidebar": "Contents",
   "toc_cell": true,
   "toc_position": {
    "height": "calc(100% - 180px)",
    "left": "10px",
    "top": "150px",
    "width": "165px"
   },
   "toc_section_display": true,
   "toc_window_display": true
  },
  "varInspector": {
   "cols": {
    "lenName": 16,
    "lenType": 16,
    "lenVar": 40
   },
   "kernels_config": {
    "python": {
     "delete_cmd_postfix": "",
     "delete_cmd_prefix": "del ",
     "library": "var_list.py",
     "varRefreshCmd": "print(var_dic_list())"
    },
    "r": {
     "delete_cmd_postfix": ") ",
     "delete_cmd_prefix": "rm(",
     "library": "var_list.r",
     "varRefreshCmd": "cat(var_dic_list()) "
    }
   },
   "types_to_exclude": [
    "module",
    "function",
    "builtin_function_or_method",
    "instance",
    "_Feature"
   ],
   "window_display": false
  }
 },
 "nbformat": 4,
 "nbformat_minor": 5
}
