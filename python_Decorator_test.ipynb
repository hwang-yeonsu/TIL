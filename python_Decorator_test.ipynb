{
 "cells": [
  {
   "cell_type": "markdown",
   "id": "c491bfec",
   "metadata": {
    "toc": true
   },
   "source": [
    "<h1>Table of Contents<span class=\"tocSkip\"></span></h1>\n",
    "<div class=\"toc\"><ul class=\"toc-item\"><li><span><a href=\"#without-decorator\" data-toc-modified-id=\"without-decorator-1\">without decorator</a></span></li><li><span><a href=\"#with-decorator\" data-toc-modified-id=\"with-decorator-2\">with decorator</a></span></li><li><span><a href=\"#func.name\" data-toc-modified-id=\"func.name-3\">func.<strong>name</strong></a></span></li><li><span><a href=\"#Several-decorators\" data-toc-modified-id=\"Several-decorators-4\">Several decorators</a></span></li><li><span><a href=\"#class-decorator\" data-toc-modified-id=\"class-decorator-5\">class decorator</a></span></li><li><span><a href=\"#decorator-with-parameters\" data-toc-modified-id=\"decorator-with-parameters-6\">decorator with parameters</a></span></li></ul></div>"
   ]
  },
  {
   "cell_type": "code",
   "execution_count": 25,
   "id": "dcb3af0d",
   "metadata": {
    "ExecuteTime": {
     "end_time": "2021-09-26T16:47:33.938511Z",
     "start_time": "2021-09-26T16:47:33.907096Z"
    }
   },
   "outputs": [],
   "source": [
    "def deco(func):                              # 호출할 함수를 매개변수로 받음\n",
    "    def wrapper():                           # 호출할 함수를 감싸는 함수\n",
    "        print(func.__name__, '함수 시작')     # __name__으로 함수 이름 출력\n",
    "        func()                               # 매개변수로 받은 함수를 호출\n",
    "        print(func.__name__, '함수 끝')\n",
    "    return wrapper                           # wrapper 함수 반환"
   ]
  },
  {
   "cell_type": "markdown",
   "id": "bce925b3",
   "metadata": {
    "ExecuteTime": {
     "end_time": "2021-09-26T12:21:56.645382Z",
     "start_time": "2021-09-26T12:21:56.635399Z"
    }
   },
   "source": [
    "### without decorator"
   ]
  },
  {
   "cell_type": "code",
   "execution_count": 29,
   "id": "6b6ec6e9",
   "metadata": {
    "ExecuteTime": {
     "end_time": "2021-09-26T16:48:13.423304Z",
     "start_time": "2021-09-26T16:48:13.411333Z"
    },
    "scrolled": true
   },
   "outputs": [
    {
     "name": "stdout",
     "output_type": "stream",
     "text": [
      "foo 함수 시작\n",
      "fooo\n",
      "foo 함수 끝\n",
      "boo 함수 시작\n",
      "booo\n",
      "boo 함수 끝\n"
     ]
    }
   ],
   "source": [
    "def foo():\n",
    "    print('fooo')\n",
    "\n",
    "def boo():\n",
    "    print('booo')\n",
    "\n",
    "trace_foo = deco(foo)       # 데코레이터에 호출할 함수를 넣음\n",
    "trace_foo()                 # 반환된 함수를 호출\n",
    "deco(boo)()                 # 데코레이터에 호출할 함수를 넣음 # 반환된 함수를 호출"
   ]
  },
  {
   "cell_type": "markdown",
   "id": "5bc59ab8",
   "metadata": {
    "ExecuteTime": {
     "end_time": "2021-09-26T12:21:56.645382Z",
     "start_time": "2021-09-26T12:21:56.635399Z"
    }
   },
   "source": [
    "### with decorator"
   ]
  },
  {
   "cell_type": "code",
   "execution_count": 30,
   "id": "87950290",
   "metadata": {
    "ExecuteTime": {
     "end_time": "2021-09-26T16:48:16.579050Z",
     "start_time": "2021-09-26T16:48:16.572056Z"
    }
   },
   "outputs": [
    {
     "name": "stdout",
     "output_type": "stream",
     "text": [
      "foo 함수 시작\n",
      "fooo\n",
      "foo 함수 끝\n",
      "boo 함수 시작\n",
      "booo\n",
      "boo 함수 끝\n"
     ]
    }
   ],
   "source": [
    "@deco\n",
    "def foo():\n",
    "    print('fooo')\n",
    "    \n",
    "@deco\n",
    "def boo():\n",
    "    print('booo')\n",
    "\n",
    "foo()\n",
    "boo()"
   ]
  },
  {
   "cell_type": "markdown",
   "id": "b9a2757b",
   "metadata": {},
   "source": [
    "### func.__name__"
   ]
  },
  {
   "cell_type": "code",
   "execution_count": 31,
   "id": "41b7284a",
   "metadata": {
    "ExecuteTime": {
     "end_time": "2021-09-26T16:48:24.391232Z",
     "start_time": "2021-09-26T16:48:24.370246Z"
    }
   },
   "outputs": [
    {
     "data": {
      "text/plain": [
       "'wrapper'"
      ]
     },
     "execution_count": 31,
     "metadata": {},
     "output_type": "execute_result"
    }
   ],
   "source": [
    "## decorator 안에서 wrapper라는 새로운 함수를 만들어서 리턴했기 때문에 원본함수의 정보가 사라짐\n",
    "foo.__name__"
   ]
  },
  {
   "cell_type": "code",
   "execution_count": 32,
   "id": "16ef87e5",
   "metadata": {
    "ExecuteTime": {
     "end_time": "2021-09-26T16:48:54.390086Z",
     "start_time": "2021-09-26T16:48:54.373119Z"
    }
   },
   "outputs": [
    {
     "name": "stdout",
     "output_type": "stream",
     "text": [
      "foo2 함수 시작\n",
      "fooo2\n",
      "foo2 함수 끝\n"
     ]
    },
    {
     "data": {
      "text/plain": [
       "'foo2'"
      ]
     },
     "execution_count": 32,
     "metadata": {},
     "output_type": "execute_result"
    }
   ],
   "source": [
    "from functools import wraps\n",
    "\n",
    "def deco(func):\n",
    "    @wraps(func)\n",
    "    def wrapper():\n",
    "        print(func.__name__, '함수 시작')\n",
    "        func()\n",
    "        print(func.__name__, '함수 끝')\n",
    "    return wrapper\n",
    "\n",
    "@deco\n",
    "def foo2():\n",
    "    print('fooo2')\n",
    "    \n",
    "foo2()\n",
    "foo2.__name__"
   ]
  },
  {
   "cell_type": "markdown",
   "id": "62ea7da7",
   "metadata": {},
   "source": [
    "### Several decorators"
   ]
  },
  {
   "cell_type": "code",
   "execution_count": 34,
   "id": "a2f2c08f",
   "metadata": {
    "ExecuteTime": {
     "end_time": "2021-09-26T16:49:22.907000Z",
     "start_time": "2021-09-26T16:49:22.899006Z"
    }
   },
   "outputs": [
    {
     "name": "stdout",
     "output_type": "stream",
     "text": [
      "decorator1 start\n",
      "decorator2 start\n",
      "hello world\n",
      "decorator2 end\n",
      "decorator1 end\n"
     ]
    }
   ],
   "source": [
    "from functools import wraps\n",
    "\n",
    "def decorator1(func):\n",
    "    @wraps(func)\n",
    "    def wrapper():\n",
    "        print('decorator1 start')\n",
    "        func()\n",
    "        print('decorator1 end')\n",
    "    return wrapper\n",
    "\n",
    "def decorator2(func):\n",
    "    @wraps(func)\n",
    "    def wrapper():\n",
    "        print('decorator2 start')\n",
    "        func()\n",
    "        print('decorator2 end')\n",
    "    return wrapper\n",
    "\n",
    "\n",
    "@decorator1\n",
    "@decorator2\n",
    "def hello():\n",
    "    print('hello world')\n",
    "\n",
    "hello()\n",
    "\n",
    "## without decorator\n",
    "# decorated_hello = decorator1(decorator2(hello))\n",
    "# decorated_hello()"
   ]
  },
  {
   "cell_type": "markdown",
   "id": "0604d9d7",
   "metadata": {},
   "source": [
    "### class decorator"
   ]
  },
  {
   "cell_type": "code",
   "execution_count": 36,
   "id": "9c55f0e4",
   "metadata": {
    "ExecuteTime": {
     "end_time": "2021-09-26T16:49:56.859702Z",
     "start_time": "2021-09-26T16:49:56.847732Z"
    }
   },
   "outputs": [
    {
     "name": "stdout",
     "output_type": "stream",
     "text": [
      "-before-\n",
      "my_class\n",
      "-after-\n"
     ]
    }
   ],
   "source": [
    "class Decorator:\n",
    "    def __init__(self, func):\n",
    "        self.func = func\n",
    "\n",
    "    def __call__(self, *args, **kwargs):\n",
    "        print('-before-')\n",
    "        self.func(*args, **kwargs)\n",
    "        print('-after-')\n",
    "\n",
    "@Decorator\n",
    "def example():\n",
    "    print('my_class')\n",
    "\n",
    "example()"
   ]
  },
  {
   "cell_type": "markdown",
   "id": "3ec872a2",
   "metadata": {},
   "source": [
    "### decorator with parameters"
   ]
  },
  {
   "cell_type": "code",
   "execution_count": 37,
   "id": "c6673388",
   "metadata": {
    "ExecuteTime": {
     "end_time": "2021-09-26T16:50:02.080619Z",
     "start_time": "2021-09-26T16:50:02.057657Z"
    }
   },
   "outputs": [
    {
     "ename": "TypeError",
     "evalue": "wrapper() takes 0 positional arguments but 1 was given",
     "output_type": "error",
     "traceback": [
      "\u001b[1;31m---------------------------------------------------------------------------\u001b[0m",
      "\u001b[1;31mTypeError\u001b[0m                                 Traceback (most recent call last)",
      "\u001b[1;32m<ipython-input-37-c8aba5a746ae>\u001b[0m in \u001b[0;36m<module>\u001b[1;34m\u001b[0m\n\u001b[0;32m     14\u001b[0m \u001b[1;33m\u001b[0m\u001b[0m\n\u001b[0;32m     15\u001b[0m \u001b[1;33m\u001b[0m\u001b[0m\n\u001b[1;32m---> 16\u001b[1;33m \u001b[0mprint_msg\u001b[0m\u001b[1;33m(\u001b[0m\u001b[1;34m'say ho!'\u001b[0m\u001b[1;33m)\u001b[0m\u001b[1;33m\u001b[0m\u001b[1;33m\u001b[0m\u001b[0m\n\u001b[0m",
      "\u001b[1;31mTypeError\u001b[0m: wrapper() takes 0 positional arguments but 1 was given"
     ]
    }
   ],
   "source": [
    "from functools import wraps\n",
    "\n",
    "def deco(func):\n",
    "    @wraps(func)\n",
    "    def wrapper():\n",
    "        print(func.__name__, 'start')\n",
    "        func()\n",
    "        print(func.__name__, 'end')\n",
    "    return wrapper\n",
    "\n",
    "@deco\n",
    "def print_msg(msg):\n",
    "    print(msg)\n",
    "\n",
    "\n",
    "print_msg('say ho!')"
   ]
  },
  {
   "cell_type": "code",
   "execution_count": 38,
   "id": "c383d768",
   "metadata": {
    "ExecuteTime": {
     "end_time": "2021-09-26T16:50:03.223804Z",
     "start_time": "2021-09-26T16:50:03.209813Z"
    }
   },
   "outputs": [
    {
     "name": "stdout",
     "output_type": "stream",
     "text": [
      "\"print_msg\" start\n",
      "say ho! qwe asd zxc\n",
      "\"print_msg\" end\n"
     ]
    }
   ],
   "source": [
    "from functools import wraps\n",
    "\n",
    "def deco(func):\n",
    "    @wraps(func)\n",
    "    def wrapper(*args, **kwargs):\n",
    "        print(f'\"{func.__name__}\" start')\n",
    "        func(*args, **kwargs)\n",
    "        print(f'\"{func.__name__}\" end')\n",
    "    return wrapper\n",
    "\n",
    "@deco\n",
    "def print_msg(msg, a):\n",
    "    print(msg, *a)\n",
    "\n",
    "print_msg('say ho!', a=('qwe','asd','zxc'))"
   ]
  }
 ],
 "metadata": {
  "kernelspec": {
   "display_name": "Python 3",
   "language": "python",
   "name": "python3"
  },
  "language_info": {
   "codemirror_mode": {
    "name": "ipython",
    "version": 3
   },
   "file_extension": ".py",
   "mimetype": "text/x-python",
   "name": "python",
   "nbconvert_exporter": "python",
   "pygments_lexer": "ipython3",
   "version": "3.8.11"
  },
  "toc": {
   "base_numbering": 1,
   "nav_menu": {},
   "number_sections": false,
   "sideBar": false,
   "skip_h1_title": false,
   "title_cell": "Table of Contents",
   "title_sidebar": "Contents",
   "toc_cell": true,
   "toc_position": {},
   "toc_section_display": true,
   "toc_window_display": false
  },
  "varInspector": {
   "cols": {
    "lenName": 16,
    "lenType": 16,
    "lenVar": 40
   },
   "kernels_config": {
    "python": {
     "delete_cmd_postfix": "",
     "delete_cmd_prefix": "del ",
     "library": "var_list.py",
     "varRefreshCmd": "print(var_dic_list())"
    },
    "r": {
     "delete_cmd_postfix": ") ",
     "delete_cmd_prefix": "rm(",
     "library": "var_list.r",
     "varRefreshCmd": "cat(var_dic_list()) "
    }
   },
   "types_to_exclude": [
    "module",
    "function",
    "builtin_function_or_method",
    "instance",
    "_Feature"
   ],
   "window_display": false
  }
 },
 "nbformat": 4,
 "nbformat_minor": 5
}
