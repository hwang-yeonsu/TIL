{
 "cells": [
  {
   "cell_type": "markdown",
   "id": "cf871272",
   "metadata": {
    "toc": true
   },
   "source": [
    "<h1>Table of Contents<span class=\"tocSkip\"></span></h1>\n",
    "<div class=\"toc\"><ul class=\"toc-item\"><li><span><a href=\"#static/class/instance-Method\" data-toc-modified-id=\"static/class/instance-Method-1\"><span class=\"toc-item-num\">1&nbsp;&nbsp;</span>static/class/instance Method</a></span></li><li><span><a href=\"#Singleton-pattern\" data-toc-modified-id=\"Singleton-pattern-2\"><span class=\"toc-item-num\">2&nbsp;&nbsp;</span>Singleton pattern</a></span><ul class=\"toc-item\"><li><span><a href=\"#일반적인-클래스\" data-toc-modified-id=\"일반적인-클래스-2.1\"><span class=\"toc-item-num\">2.1&nbsp;&nbsp;</span>일반적인 클래스</a></span></li><li><span><a href=\"#Singleton-class-1\" data-toc-modified-id=\"Singleton-class-1-2.2\"><span class=\"toc-item-num\">2.2&nbsp;&nbsp;</span>Singleton class 1</a></span></li><li><span><a href=\"#Singleton-class-2\" data-toc-modified-id=\"Singleton-class-2-2.3\"><span class=\"toc-item-num\">2.3&nbsp;&nbsp;</span>Singleton class 2</a></span></li></ul></li></ul></div>"
   ]
  },
  {
   "cell_type": "markdown",
   "id": "09b1ceb8",
   "metadata": {},
   "source": [
    "# static/class/instance Method"
   ]
  },
  {
   "cell_type": "code",
   "execution_count": 11,
   "id": "c0c12595",
   "metadata": {
    "ExecuteTime": {
     "end_time": "2021-12-30T17:31:57.333787Z",
     "start_time": "2021-12-30T17:31:57.311802Z"
    }
   },
   "outputs": [
    {
     "name": "stdout",
     "output_type": "stream",
     "text": [
      "Static method: static world\n",
      "Class method: <class '__main__.Methods'> / hello world\n",
      "Instance method: <__main__.Methods object at 0x000002D0A0F68B20> / hello world\n",
      "Static method: static world\n"
     ]
    }
   ],
   "source": [
    "class Methods:\n",
    "    ## 클래스변수\n",
    "    attr = 'hello world'\n",
    "    \n",
    "    ## 정적메서드: 인스턴스 생성 없이 호출할 수 있으나, 클래스 내부에 접근 불가\n",
    "    @staticmethod\n",
    "    def stat():\n",
    "        print(f'Static method: static world')\n",
    "    \n",
    "    ## 클래스메서드: 인스턴스 생성 없이 호출할 수 있고, 클래스변수 접근 가능\n",
    "    @classmethod\n",
    "    def clas(cls):\n",
    "        print(f'Class method: {cls} / {cls.attr}')\n",
    "    \n",
    "    ## 인스턴스메서드: 인스턴스를 통해 호출되고, 클래스 내부 접근 가능\n",
    "    def inst(self):\n",
    "        print(f'Instance method: {self} / {self.attr}')\n",
    "        self.stat()\n",
    "\n",
    "\n",
    "Methods.stat()\n",
    "Methods.clas()\n",
    "Methods_x = Methods()  ## 인스턴스 생성\n",
    "Methods_x.inst()"
   ]
  },
  {
   "cell_type": "markdown",
   "id": "36d7bce0",
   "metadata": {},
   "source": [
    "# Singleton pattern"
   ]
  },
  {
   "cell_type": "markdown",
   "id": "e2d9ca70",
   "metadata": {},
   "source": [
    "소프트웨어 디자인 패턴에서 싱글턴 패턴(Singleton pattern)을 따르는 클래스는, 생성자가 여러 차례 호출되더라도 실제로 생성되는 객체는 하나이고 최초 생성 이후에 호출된 생성자는 최초의 생성자가 생성한 객체를 리턴한다. 이와 같은 디자인 유형을 싱글턴 패턴이라고 한다."
   ]
  },
  {
   "cell_type": "markdown",
   "id": "18fa6e05",
   "metadata": {
    "ExecuteTime": {
     "end_time": "2021-12-30T17:41:54.349668Z",
     "start_time": "2021-12-30T17:41:54.333656Z"
    }
   },
   "source": [
    "## 일반적인 클래스"
   ]
  },
  {
   "cell_type": "code",
   "execution_count": 5,
   "id": "2d4033a9",
   "metadata": {
    "ExecuteTime": {
     "end_time": "2021-12-30T17:22:38.724425Z",
     "start_time": "2021-12-30T17:22:38.713432Z"
    }
   },
   "outputs": [
    {
     "data": {
      "text/plain": [
       "False"
      ]
     },
     "execution_count": 5,
     "metadata": {},
     "output_type": "execute_result"
    }
   ],
   "source": [
    "## 싱글턴 패턴이 아닌 클래스는 여러개의 '다른' 인스턴스를 생성할 수 있다.\n",
    "class Test:\n",
    "    pass\n",
    "\n",
    "x = Test()\n",
    "y = Test()\n",
    "x is y"
   ]
  },
  {
   "cell_type": "markdown",
   "id": "0d6903b7",
   "metadata": {},
   "source": [
    "## Singleton class 1"
   ]
  },
  {
   "cell_type": "markdown",
   "id": "2bed52ff",
   "metadata": {},
   "source": [
    "인스턴스 생성시 상속된 Singleone 클래스의 클래스메서드 singleton_instance을 호출하면,\n",
    "\n",
    "이후 인스턴스가 추가로 생성되지 않고 여러 변수들이 같은 인스턴스를 참조한다.\n",
    "\n",
    "그러나, singleton_instance 메서드를 호출하지 않고 MyClass()를 수행하면 다른 인스턴스를 생성한다.\n",
    "\n",
    "(데코레이터를 활용한 구현은 정적 및 클래스 메서드를 사용할 수 없어 불완전하다.)"
   ]
  },
  {
   "cell_type": "code",
   "execution_count": 28,
   "id": "90ec312a",
   "metadata": {
    "ExecuteTime": {
     "end_time": "2021-12-30T17:52:12.441351Z",
     "start_time": "2021-12-30T17:52:12.424359Z"
    }
   },
   "outputs": [
    {
     "name": "stdout",
     "output_type": "stream",
     "text": [
      "a 객체 생성\n",
      "b 객체 생성\n",
      "c 객체 생성\n",
      "f 객체 생성\n",
      "\n",
      "names:, a, b, c, c, c\n",
      "\n",
      "a is b: False\n",
      "b is c: False\n",
      "\n",
      "c is d: True\n",
      "d is e: True\n"
     ]
    }
   ],
   "source": [
    "class Singleton:\n",
    "    __instance = None\n",
    "\n",
    "    @classmethod\n",
    "    def __getInstance(cls, *args, **kwargs):\n",
    "        return cls.__instance\n",
    "\n",
    "    @classmethod\n",
    "    def singleton_instance(cls, *args, **kwargs):\n",
    "        cls.__instance = cls(*args, **kwargs)\n",
    "        cls.singleton_instance = cls.__getInstance\n",
    "        return cls.__instance\n",
    "\n",
    "    \n",
    "class MyClass(Singleton):\n",
    "    def __init__(self, s):\n",
    "        print(s, '객체 생성')\n",
    "        self.name = s\n",
    "        \n",
    "        \n",
    "a = MyClass('a')\n",
    "b = MyClass('b')\n",
    "c = MyClass.singleton_instance('c')\n",
    "d = MyClass.singleton_instance('d')\n",
    "e = MyClass.singleton_instance('e')\n",
    "f = MyClass('f')\n",
    "\n",
    "print()\n",
    "print(f'names:, {a.name}, {b.name}, {c.name}, {d.name}, {e.name}\\n')\n",
    "print(f'a is b: {a is b}\\nb is c: {b is c}\\n\\nc is d: {c is d}\\nd is e: {d is e}')"
   ]
  },
  {
   "cell_type": "code",
   "execution_count": 29,
   "id": "05686996",
   "metadata": {
    "ExecuteTime": {
     "end_time": "2021-12-30T17:52:18.456315Z",
     "start_time": "2021-12-30T17:52:18.424961Z"
    }
   },
   "outputs": [
    {
     "name": "stdout",
     "output_type": "stream",
     "text": [
      "foo boo\n",
      "Change!\n",
      "foo boo\n",
      "Change!\n"
     ]
    }
   ],
   "source": [
    "## 참고!! 메스드 바인딩?\n",
    "class AAA:\n",
    "    def bbb(self):\n",
    "        print('Change!')\n",
    "    \n",
    "    def aaa(self):\n",
    "        print('foo boo')\n",
    "        self.aaa = self.bbb    ## 해당 인스턴스의 aaa메서드가 bbb를 가리킴\n",
    "\n",
    "        \n",
    "c = AAA()\n",
    "c.aaa()    ## 최초 aaa() 호출\n",
    "c.aaa()    ## aaa() -> bbb() 호출\n",
    "d = AAA()  ## 새로운 인스턴스도 동일\n",
    "d.aaa()\n",
    "d.aaa()\n",
    "\n",
    "## aaa() help\n",
    "c.aaa??"
   ]
  },
  {
   "cell_type": "markdown",
   "id": "c1b04946",
   "metadata": {},
   "source": [
    "## Singleton class 2"
   ]
  },
  {
   "cell_type": "code",
   "execution_count": 31,
   "id": "10eb7c05",
   "metadata": {
    "ExecuteTime": {
     "end_time": "2021-12-30T18:01:18.158461Z",
     "start_time": "2021-12-30T18:01:18.136471Z"
    }
   },
   "outputs": [
    {
     "name": "stdout",
     "output_type": "stream",
     "text": [
      "1\n",
      "1 1\n",
      "True\n"
     ]
    }
   ],
   "source": [
    "class qq:\n",
    "    ## 싱글턴 flag\n",
    "    _singleton = True\n",
    "    \n",
    "    ## __new__()를 오버라이딩하여 한 번만 인스턴스 생성\n",
    "    def __new__(cls, *args, **kwargs):\n",
    "        # if(not hasattr(cls, '_instance')):\n",
    "        if(cls._singleton):\n",
    "            cls._instance = object.__new__(cls)\n",
    "        return cls._instance\n",
    "    \n",
    "    ## 인스턴스를 추가로 생성하지 않는다 하더라도 __init__()을 통한 클래스변수 변경을 방지\n",
    "    def __init__(self, n):\n",
    "        if(self._singleton):\n",
    "            type(self)._singleton = False\n",
    "            self.x = n\n",
    "\n",
    "\n",
    "q1 = qq(1)\n",
    "print(q1.x)\n",
    "\n",
    "q2 = qq(2)\n",
    "print(q1.x, q2.x)\n",
    "\n",
    "print(q1 is q2)"
   ]
  }
 ],
 "metadata": {
  "kernelspec": {
   "display_name": "Python 3 (ipykernel)",
   "language": "python",
   "name": "python3"
  },
  "language_info": {
   "codemirror_mode": {
    "name": "ipython",
    "version": 3
   },
   "file_extension": ".py",
   "mimetype": "text/x-python",
   "name": "python",
   "nbconvert_exporter": "python",
   "pygments_lexer": "ipython3",
   "version": "3.9.7"
  },
  "toc": {
   "base_numbering": 1,
   "nav_menu": {},
   "number_sections": true,
   "sideBar": true,
   "skip_h1_title": false,
   "title_cell": "Table of Contents",
   "title_sidebar": "Contents",
   "toc_cell": true,
   "toc_position": {
    "height": "calc(100% - 180px)",
    "left": "10px",
    "top": "150px",
    "width": "165px"
   },
   "toc_section_display": true,
   "toc_window_display": true
  },
  "varInspector": {
   "cols": {
    "lenName": 16,
    "lenType": 16,
    "lenVar": 40
   },
   "kernels_config": {
    "python": {
     "delete_cmd_postfix": "",
     "delete_cmd_prefix": "del ",
     "library": "var_list.py",
     "varRefreshCmd": "print(var_dic_list())"
    },
    "r": {
     "delete_cmd_postfix": ") ",
     "delete_cmd_prefix": "rm(",
     "library": "var_list.r",
     "varRefreshCmd": "cat(var_dic_list()) "
    }
   },
   "types_to_exclude": [
    "module",
    "function",
    "builtin_function_or_method",
    "instance",
    "_Feature"
   ],
   "window_display": false
  }
 },
 "nbformat": 4,
 "nbformat_minor": 5
}
