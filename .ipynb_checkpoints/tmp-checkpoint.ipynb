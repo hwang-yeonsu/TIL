{
 "cells": [
  {
   "cell_type": "markdown",
   "id": "5f841071",
   "metadata": {
    "toc": true
   },
   "source": [
    "<h1>Table of Contents<span class=\"tocSkip\"></span></h1>\n",
    "<div class=\"toc\"><ul class=\"toc-item\"><li><span><a href=\"#codeup-6096\" data-toc-modified-id=\"codeup-6096-1\">codeup 6096</a></span></li><li><span><a href=\"#codeup-6098\" data-toc-modified-id=\"codeup-6098-2\">codeup 6098</a></span></li></ul></div>"
   ]
  },
  {
   "cell_type": "code",
   "execution_count": 238,
   "id": "9b2cc8b0",
   "metadata": {
    "ExecuteTime": {
     "end_time": "2021-10-20T17:53:09.265467Z",
     "start_time": "2021-10-20T17:53:09.229485Z"
    },
    "scrolled": true
   },
   "outputs": [
    {
     "data": {
      "text/plain": [
       "[5, 6, 6, 5]"
      ]
     },
     "execution_count": 238,
     "metadata": {},
     "output_type": "execute_result"
    },
    {
     "data": {
      "text/plain": [
       "[12, 12, 12, 10]"
      ]
     },
     "execution_count": 238,
     "metadata": {},
     "output_type": "execute_result"
    },
    {
     "data": {
      "text/plain": [
       "[20, 19, 18, 17]"
      ]
     },
     "execution_count": 238,
     "metadata": {},
     "output_type": "execute_result"
    },
    {
     "data": {
      "text/plain": [
       "[20, 19, 18, 17]"
      ]
     },
     "execution_count": 238,
     "metadata": {},
     "output_type": "execute_result"
    }
   ],
   "source": [
    "import copy\n",
    "\n",
    "land=[[4, 3, 2, 1], [2, 2, 2, 1], [6, 6, 6, 4], [8, 7, 6, 5]]\n",
    "length = len(land)\n",
    "res = copy.deepcopy(land[0])\n",
    "\n",
    "for i in range(1, length):\n",
    "    tmp = res[:]\n",
    "    for j in range(4):\n",
    "        res[j] = land[i][j] + max([ tmp[x] for x in range(4) if(x!=j) ])\n",
    "res"
   ]
  },
  {
   "cell_type": "code",
   "execution_count": 222,
   "id": "cd3036e3",
   "metadata": {
    "ExecuteTime": {
     "end_time": "2021-10-20T17:21:29.736751Z",
     "start_time": "2021-10-20T17:21:29.705750Z"
    }
   },
   "outputs": [
    {
     "data": {
      "text/plain": [
       "[4, 3, 2, 1]"
      ]
     },
     "execution_count": 222,
     "metadata": {},
     "output_type": "execute_result"
    },
    {
     "data": {
      "text/plain": [
       "[2, 2, 2, 1]"
      ]
     },
     "execution_count": 222,
     "metadata": {},
     "output_type": "execute_result"
    },
    {
     "data": {
      "text/plain": [
       "[6, 6, 6, 4]"
      ]
     },
     "execution_count": 222,
     "metadata": {},
     "output_type": "execute_result"
    },
    {
     "data": {
      "text/plain": [
       "[8, 7, 6, 5]"
      ]
     },
     "execution_count": 222,
     "metadata": {},
     "output_type": "execute_result"
    }
   ],
   "source": [
    "for i in land:\n",
    "    i"
   ]
  },
  {
   "cell_type": "code",
   "execution_count": null,
   "id": "0a8d0790",
   "metadata": {},
   "outputs": [],
   "source": []
  },
  {
   "cell_type": "code",
   "execution_count": null,
   "id": "1ff3fa95",
   "metadata": {},
   "outputs": [],
   "source": []
  },
  {
   "cell_type": "code",
   "execution_count": null,
   "id": "0579eaf6",
   "metadata": {},
   "outputs": [],
   "source": []
  },
  {
   "cell_type": "code",
   "execution_count": null,
   "id": "a4d9711b",
   "metadata": {},
   "outputs": [],
   "source": []
  },
  {
   "cell_type": "code",
   "execution_count": null,
   "id": "2534edcb",
   "metadata": {},
   "outputs": [],
   "source": []
  },
  {
   "cell_type": "code",
   "execution_count": null,
   "id": "89a29993",
   "metadata": {},
   "outputs": [],
   "source": []
  },
  {
   "cell_type": "code",
   "execution_count": null,
   "id": "39a49c80",
   "metadata": {},
   "outputs": [],
   "source": []
  },
  {
   "cell_type": "code",
   "execution_count": null,
   "id": "94830d33",
   "metadata": {},
   "outputs": [],
   "source": []
  },
  {
   "cell_type": "code",
   "execution_count": null,
   "id": "a48a0ea0",
   "metadata": {},
   "outputs": [],
   "source": []
  },
  {
   "cell_type": "code",
   "execution_count": null,
   "id": "4bd70d4a",
   "metadata": {},
   "outputs": [],
   "source": []
  },
  {
   "cell_type": "code",
   "execution_count": null,
   "id": "37c1b5dc",
   "metadata": {},
   "outputs": [],
   "source": []
  },
  {
   "cell_type": "code",
   "execution_count": null,
   "id": "c6188877",
   "metadata": {},
   "outputs": [],
   "source": []
  },
  {
   "cell_type": "code",
   "execution_count": null,
   "id": "2b360fdc",
   "metadata": {},
   "outputs": [],
   "source": []
  },
  {
   "cell_type": "code",
   "execution_count": null,
   "id": "c745e445",
   "metadata": {},
   "outputs": [],
   "source": []
  },
  {
   "cell_type": "code",
   "execution_count": null,
   "id": "ad96fddd",
   "metadata": {},
   "outputs": [],
   "source": []
  },
  {
   "cell_type": "code",
   "execution_count": 2,
   "id": "60f1423c",
   "metadata": {
    "ExecuteTime": {
     "end_time": "2021-10-13T01:32:06.038260Z",
     "start_time": "2021-10-13T01:32:03.566604Z"
    }
   },
   "outputs": [],
   "source": [
    "!pip freeze > requirements.txt\n",
    "# !pip install -r requirements.txt"
   ]
  },
  {
   "cell_type": "code",
   "execution_count": 3,
   "id": "2035b21f",
   "metadata": {
    "ExecuteTime": {
     "end_time": "2021-10-13T01:34:58.048121Z",
     "start_time": "2021-10-13T01:34:57.879906Z"
    }
   },
   "outputs": [
    {
     "name": "stdout",
     "output_type": "stream",
     "text": [
      "Initialized empty Git repository in C:/Anaconda_workplace/test/.git/\n"
     ]
    }
   ],
   "source": [
    "!git init"
   ]
  },
  {
   "cell_type": "code",
   "execution_count": 4,
   "id": "e3f481bf",
   "metadata": {
    "ExecuteTime": {
     "end_time": "2021-10-13T01:35:23.024919Z",
     "start_time": "2021-10-13T01:35:22.917248Z"
    },
    "scrolled": true
   },
   "outputs": [
    {
     "name": "stdout",
     "output_type": "stream",
     "text": [
      "On branch master\n",
      "\n",
      "No commits yet\n",
      "\n",
      "Untracked files:\n",
      "  (use \"git add <file>...\" to include in what will be committed)\n",
      "\t.ipynb_checkpoints/\n",
      "\t005930.pkl\n",
      "\tFIND_A_week4_Q4_testenv.ipynb\n",
      "\talpha_vantage_test.ipynb\n",
      "\tdecorator_test.ipynb\n",
      "\tnumpy_test.ipynb\n",
      "\tpandas_test.ipynb\n",
      "\tresources/\n",
      "\tstgy_BB.ipynb\n",
      "\ttmp.ipynb\n",
      "\tunittest_test.ipynb\n",
      "\n",
      "nothing added to commit but untracked files present (use \"git add\" to track)\n"
     ]
    }
   ],
   "source": [
    "!git status"
   ]
  },
  {
   "cell_type": "code",
   "execution_count": 366,
   "id": "60508a4a",
   "metadata": {},
   "outputs": [
    {
     "data": {
      "text/plain": [
       "<p><a data-entity-substitution=\"canonical\" data-entity-type=\"node\" data-entity-uuid=\"4ced74bb-e539-4bc8-9d2c-cdd3e4b39292\" href=\"/kr-ko/cloud/bare-metal-servers\" title=\"bare-metal-servers\">베어메탈 서버<br/></a><br/>시간별 및 월별 옵션으로 구성 가능한 고성능 클라우드 서버</p>"
      ]
     },
     "execution_count": 366,
     "metadata": {},
     "output_type": "execute_result"
    }
   ],
   "source": [
    "import urllib.request\n",
    "from bs4 import BeautifulSoup\n",
    "\n",
    "url = \"https://www.ibm.com/kr-ko/cloud/products\"\n",
    "html = urllib.request.urlopen(url)\n",
    "\n",
    "bsObject = BeautifulSoup(html, \"html.parser\")\n",
    "\n",
    "x = [x for x in bsObject.select('div > div.ibm-col-12-9.ibm-col-medium-12-12 > div > div > div > div > p')]\n",
    "y = [y.text for y in bsObject.find_all('div > p', text=' ')]\n",
    "#\\33 16541 > div > div.ibm-col-12-9.ibm-col-medium-12-12 > div > div:nth-child(1) > div > div > p > a\n",
    "\n"
   ]
  },
  {
   "cell_type": "code",
   "execution_count": 446,
   "id": "d8e9b2fc",
   "metadata": {
    "scrolled": true
   },
   "outputs": [],
   "source": [
    "res = []\n",
    "for v in x:\n",
    "    tmp = str(v)\n",
    "    if('</a>' in tmp):\n",
    "        i = tmp.find('<br/>')\n",
    "        text = tmp[i:].strip('<br/>ap')\n",
    "        res.append(text) if (text != '') else None\n",
    "    else:\n",
    "        text = tmp.strip('<br/>ap')\n",
    "        res.append(text) if (text != '') else None\n",
    "        "
   ]
  },
  {
   "cell_type": "code",
   "execution_count": 453,
   "id": "51dc25d8",
   "metadata": {
    "scrolled": true
   },
   "outputs": [
    {
     "name": "stdout",
     "output_type": "stream",
     "text": [
      "시간별 및 월별 옵션으로 구성 가능한 고성능 클라우드 서버\n",
      "요청 시 제공 및 확장되는 공용 및 전용 가상 서버\n",
      "선택한 OS를 사용하여 자체 대량 스토리지 베어메탈 서버를 관리하거나 턴키 어플라이언스와 배치 요청 배치\n",
      "클라우드 또는 베어메탈 서버에서 SAP 애플리케이션을 실행하고 관리\n",
      "관리되는 개인용 레지스트리에 Docker 이미지를 저장하고 분배\n",
      "지능형 스케줄링, 자체 복구 및 수평적 확장을 조율\n",
      "서버를 수동으로 구성 및 관리하지 않고 앱을 배치하고 확장\n",
      "Apache OpenWhisk를 기반으로 하는 폴리글롯 FaaS(Functions-as-a-Service) 프로그래밍 플랫폼\n",
      "클라우드에서 싱글 및 멀티 테넌트 옵션을 사용하여 새 앱 또는 기존™ Java 앱을 실행\n",
      "요청 시 클라우드 환경을 자동으로 확장하거나 축소\n",
      "VMware Solutions용 IBM Cloud\n",
      "VMware 워크로드를 온프레미스에서 IBM Cloud로 이동\n",
      "인프라 관리를 단순화하기 위한 포괄적인 범위의 소프트웨어 옵션\n",
      "IBM Cloud에서 실행되는 내장 자동화를 통해 턴키 HPC(고성능 컴퓨팅) 플랫폼을 서비스로 사용하여 문제를 더 빠르게 해결\n",
      "라우터, 방화벽, VPN 터널 및 로드 밸런서를 사용하여 실제 및 가상 네트워크 관리\n",
      "사용자와 가까운 위치에 데이터를 보관하여 트래픽 과부하를 방지하고 대기 시간 감소\n",
      "사설 인프라와 IBM Cloud 간의 데이터 전송 보안 및 속도 향상\n",
      "전체 서비스 도메인 등록 및 관리\n",
      "여러 서버에 트래픽 로드를 고르게 분산시켜 가동 시간 및 성능 개선\n",
      "방화벽 및 보안 그룹은 서버와 최종 사용자를 악의적인 활동으로부터 보호함\n",
      " \n",
      "클라우드에 도달하기 전에 공용 웹 콘텐츠 및 애플리케이션을 보호하도록 설계된 보안 및 성능 기능을 위한 원스톱 샵\n",
      "내구성, 탄력성, 보안을 고려하여 디자인된 비정형 데이터 스토리지 서비스\n",
      "SAN 지속성 및 내구성을 갖춘 플래시백 로컬 디스크 성능\n",
      "내구성 있고 신속하며 유연한 플래시백 NFS 기반 파일 스토리지\n",
      "자동화, 확장, 제3자 통합, 암호화 및 다중 저장 기능이 통합된 엔터프라이즈급 백업 및 복구 솔루션\n",
      "종합적 테스트를 실시하여 사용자가 관련 영향을 받지 않도록 성능 문제를 사전에 발견하고 수정\n",
      "IT 운영을 통해 멀티 클라우드 환경을 배포, 자동화하고 관리할 수 있음\n",
      "운영상의 이벤트와 사건 간 상관 관계를 찾고 우선순위를 지정하며 해결\n",
      "Cron을 넘어 특정 시간에, 정기적으로 또는 이벤트 발생 시 실행되는 워크플로우 작성\n",
      "애플리케이션 및 서비스 데이터를 자동으로 수집하는 로그 수집 및 검색\n",
      "Kubernetes 기반 애플리케이션, 플랫폼 및 서비스에 대한 운영 가시성을 실시간으로 모니터링하고 경보\n",
      "애플리케이션 외부에서 비즈니스 로직 및 의사결정을 자동화하고 관리\n",
      "IBM Cloud Kubernetes Service에서 Istio를 실행하여 마이크로서비스를 규모에 맞게 연결, 관리 및 보호\n",
      "클라우드의 활동을 보고, 관리하고, 감사\n",
      "소셜 로그인 사용을 포함하여 웹 및 모바일 앱에 대한 인증 추가\n",
      "방화벽 및 보안 그룹으로 악의적인 활동으로부터 서버와 일반 사용자 보호\n",
      "클라이언트와 서버 애플리케이션 간 데이터 암호화\n",
      "키 관리 및 키 스토리지가 제공되는 실제 디바이스\n",
      "보관된 데이터, 이동 중인 데이터, 사용되지 않는 데이터를 메인프레임 레벨에서 보호\n",
      "애플리케이션을 수정하지 않고 Kubernetes 컨테이너에 대해 런타임 메모리 암호화 설정\n",
      "보안 관리, 분석 및 개선을 중앙 집중화\n",
      "IBM Cloud 서비스 또는 사용자 정의 앱에서 사용되는 암호화 키의 라이프사이클 관리\n",
      "대량의 동시 읽기 및 쓰기 워크로드에 최적화된 NoSQL JSON 문서 저장소\n",
      "10개의 오픈 소스 SQL과 NoSQL 데이터베이스를 지원하는 데이터베이스 엔진\n",
      "밀접하게 상호 연결된 데이터를 저장하고 조회하는 데 최적화되어 있으며 확장 가능한 그래프 데이터베이스\n",
      "Python, PHP, C++ 등의 커넥터가 포함되어 있으며 빠르고 사용하기 쉬운 RDBMS\n",
      "JSON 문서와 실시간 웹에 최적화된 분산 데이터베이스\n",
      "노드당 매초 1백만 개의 트랜잭션을 처리할 수 있는 NoSQL 컬럼 저장소\n",
      "JSON 인덱싱 기능과 전체 텍스트 검색 엔진의 유연성 결합\n",
      "서버 클러스터를 관리하는 데 필요한 올바른 데이터를 보관하는 키 값 저장소\n",
      "색인화 가능한 JSON, 발행/구독 기능 및 드라이버를 갖춘 오브젝트 관계형 SQL 데이터베이스\n",
      "카운터, 큐, 목록 및 하이퍼로그를 사용하여 복잡한 데이터 문제를 간단하게 처리\n",
      "전체 관리자 액세스 권한이 있는 온디맨드 다중 워크로드 SQL 데이터베이스\n",
      "강력한 성능을 위해 구성되고 최적화되어 있는 완전 관리형 SQL 클라우드 데이터베이스\n",
      "IBM BLU® Acceleration for Cloud를 기반으로 하는 완전 관리형 클라우드 데이터 웨어하우스 서비스\n",
      "TimeSeries, Spatial, NoSQL 및 SQL 데이터를 통합하는 고성능 엔진\n",
      "CLI를 통해 빠르고, 안전하고, 쉽게 데이터를 마이그레이션\n",
      "분석 애플리케이션 작성을 위해 Apache Spark와 Apache Hadoop을 결합한 서비스\n",
      "최적화 기반 지원을 사용하도록 디자인된 셀프 서비스 의사결정 환경\n",
      "IBM BLU Acceleration으로 강화된 완전 관리형 클라우드 데이터 웨어하우스 서비스\n",
      "하이브리드 컴퓨팅 환경에서 신뢰할 수 있는 데이터 보기 제공\n",
      "품질 데이터의 이해, 관리, 생성, 유지보수, 전환 및 배포 작업을 수행합니다.\n",
      "광범위한 스트리밍 텍스트, 동영상, 오디오, 지리 공간 및 센서 데이터 분석\n",
      "통합된 하나의 환경에서 AI 모델 빌드 및 훈련, 데이터 준비 및 분석 작업을 모두 수행\n",
      "AI 앱의 성능을 강화하는 지능형 데이터를 제공하며 분석 자산 발견하고 카탈로그를 작성 및 관리\n",
      "가상 어시스턴트 빌드 및 배치\n",
      "자동화된 수집과 고급 AI 기능을 결합하여 데이터의 연관 관계 파악\n",
      "디바이스 등록, 연결, 제어, 신속한 시각화와 데이터 스토리지 작업에 완전 관리형 클라우드에서 호스팅되는 서비스를 활용\n",
      "오디오 및 음성을 문자 텍스트로 손쉽게 변환\n",
      "문자 텍스트를 다양한 언어와 음성의 자연스러운 녹음 목소리로 변환\n",
      "뉴스, 특허 또는 대화형 문서를 생동감있게 번역\n",
      "안정적으로 자연어 해석 및 분류\n",
      "텍스트를 분석하여 개념, 엔티티 및 감성과 같은 콘텐츠에서 메타데이터를 추출\n",
      "머신 러닝을 통해 시각적 콘텐츠에 태그를 지정, 분류, 검색\n",
      "문자 콘텐츠의 감정과 어조를 분석\n",
      "문자 텍스트를 통해 성격 특성, 요구사항, 가치관 등을 예측\n",
      "데이터 과학자, 엔지니어 및 비즈니스 분석가를 위한 셀프 서비스 데이터 준비 도구\n",
      "자동화된 공동 워크플로우를 사용하여 셀프 학습 모델을 생성하고, 훈련하고 배치\n",
      "신경망을 사용하여 수백 개의 교육 실행으로 쉽게 확장되는 딥러닝 모델을 디자인 및 배치\n",
      "Salesforce Service Cloud의 고객 서비스 에이전트가 기업 데이터 소스를 검색하여 복잡한 사례를 해결할 수 있도록 지원\n",
      "산업 영역의 언어적 차이를 이해하도록 Watson™ 트레이닝\n",
      "신뢰성과 투명성을 바탕으로 라이프사이클 전반에 걸쳐 AI를 운영하고 자동화\n",
      "Weather Company에서 제공하는 날씨 데이터를 애플리케이션에 통합\n",
      "백엔드 및 클라우드 서비스와의 통합을 단순화하는 확장 가능하고 안전한 모바일 액세스\n",
      "소셜 로그인 사용을 포함하여 웹 및 모바일 앱에 대한 인증 추가\n",
      "데스크탑 또는 태블릿에서 모든 애플리케이션의 성능과 사용에 대해 모니터링\n",
      "모바일 및 웹 애플리케이션에 실시간 알림 전송\n",
      "툴체인 프로비저닝, 빌드 및 테스트 자동화, 분석을 통한 품질 제어\n",
      "개발자 생산성과 코드 품질을 향상시키고 배포 주기를 단축시키는 데이터\n",
      "앱, 컨테이너, 인프라 및 서비스와 상호작용하는 하나의 방법\n",
      "프로덕션 레디 클라우드 애플리케이션을 신속하게 구축할 수 있는 킷\n",
      "IBM Cloud for the Apple 플랫폼에서 앱을 빌드하고 배포\n",
      "여러 기관 네트워크의 개발, 거버넌스 및 운영 효율성 개선\n",
      "기본제공 보안과 거버넌스가 통합되어 있는 API 작성 및 관리\n",
      "온프레미스 및 SaaS에 대한 수백 개의 기본 제공 커넥터가 있는 통합 솔루션\n",
      "하이브리드 클라우드에서 대량의 데이터를 최대 속도로 전송, 교환 및 자동화\n",
      "확장 가능한 고성능 메시징 백본을 위한 서비스로서 호스트되고 완전히 관리되는 Apache Kafk\n",
      "안정적이고 안전한 데이터 교환을 간소화 및 가속화하는 엔터프라이즈 메시징\n",
      "다중 프로토콜을 활용하여 메시지를 라우팅, 트래킹 및 큐잉\n",
      "사설 인프라와 IBM Cloud 간의 데이터 전송 보안 및 가속화\n",
      "연결하려는 특정 리소스 간에 보안 터널 설정\n",
      "CLI를 통해 빠르고, 안전하고, 쉽게 데이터를 마이그레이션\n",
      "견고한 120TB 용량 스토리지 디바이스를 사용하여 테라바이트에서 페타바이트 단위의 데이터를 안전하게 이동\n",
      "클라우드에서 싱글 및 멀티 테넌트 옵션을 사용하여 새 앱 또는 기존™ Java 앱을 실행\n",
      "방화벽으로 보호되고 데이터 센터에서 제공되는 IBM Cloud\n",
      "IBM의 데이터 센터 중 하나에 호스팅되는 싱글 테넌트 IBM Cloud 환경\n",
      "VMware 워크로드를 온프레미스에서 IBM Cloud로 이동\n",
      "성능, 가용성 및 보안 측면에서 신뢰할 수 있는 F5 플랫폼을 사용하여 VMware 워크로드를 IBM Cloud로 원활하게 이동\n",
      "풍부한 가상 및 실제의 차세대 방화벽 기능을 갖춘 IBM Cloud for VMware Solutions에 온프레미스 보안 정책 적용\n",
      "마이크로 칩 레벨에 이르기까지 가상화된 워크로드를 보호하는 하드웨어 제공\n",
      "클라우드로 쉽게 마이그레이션하기 위해 기존 앱의 전체 데이터 센터 환경 복제\n",
      "기존 또는 새로운 VMware 환경에 데이터 보호 및 가용성 솔루션 제공\n",
      "vSphere 및 Hyper-V 환경을 더욱 효율적으로 관리하기 위해 백업, 복원 및 복제 결합\n",
      "완전 관리형 엔드-투-엔드 가상 데스크탑 솔루션 제공\n",
      "VMware를 비롯한 기존 하이퍼바이저 워크로드를 보호하고 확장하며 IBM Cloud로 마이그레이션\n"
     ]
    }
   ],
   "source": [
    "for i in res:\n",
    "    print(i)"
   ]
  },
  {
   "cell_type": "code",
   "execution_count": null,
   "id": "2a2a855e",
   "metadata": {},
   "outputs": [],
   "source": []
  },
  {
   "cell_type": "code",
   "execution_count": null,
   "id": "975755eb",
   "metadata": {},
   "outputs": [],
   "source": []
  },
  {
   "cell_type": "code",
   "execution_count": 208,
   "id": "a75da4a0",
   "metadata": {
    "ExecuteTime": {
     "end_time": "2021-10-02T08:43:38.678700Z",
     "start_time": "2021-10-02T08:43:38.647457Z"
    }
   },
   "outputs": [
    {
     "data": {
      "text/plain": [
       "['mee', 'aqq']"
      ]
     },
     "execution_count": 208,
     "metadata": {},
     "output_type": "execute_result"
    }
   ],
   "source": [
    "## my\n",
    "\n",
    "import numpy as np\n",
    "\n",
    "def findAndReplacePattern(words, pattern):\n",
    "    res = []\n",
    "    for word in words:\n",
    "        tmp = []\n",
    "        i = 0\n",
    "        for w in word:\n",
    "            if(not w in tmp):\n",
    "                tmp.append((w, chr(ord('a')+i)))\n",
    "                i += 1\n",
    "                \n",
    "        for x,y in tmp:\n",
    "            word = word.replace(x,y)\n",
    "        res.append(word)\n",
    "    \n",
    "    res = np.array(res)\n",
    "    index_list = np.where(res==pattern)\n",
    "    \n",
    "    return [ words[x] for x in index_list[0] ]\n",
    "\n",
    "   \n",
    "words1 = [\"abc\",\"deq\",\"mee\",\"aqq\",\"dkd\",\"ccc\"]\n",
    "pattern1 = \"abb\"\n",
    "words2 = [\"a\",\"b\",\"c\"]\n",
    "pattern2 = \"a\"\n",
    "findAndReplacePattern(words1, pattern1)"
   ]
  },
  {
   "cell_type": "code",
   "execution_count": 207,
   "id": "a83a8bc5",
   "metadata": {
    "ExecuteTime": {
     "end_time": "2021-10-02T08:43:18.820102Z",
     "start_time": "2021-10-02T08:43:18.794332Z"
    }
   },
   "outputs": [
    {
     "data": {
      "text/plain": [
       "['mee', 'aqq']"
      ]
     },
     "execution_count": 207,
     "metadata": {},
     "output_type": "execute_result"
    }
   ],
   "source": [
    "## best code\n",
    "\n",
    "def findAndReplacePattern(words, pattern):\n",
    "    def F(w):\n",
    "        m = {}\n",
    "        return [m.setdefault(c, len(m)) for c in w]\n",
    "    return [w for w in words if F(w) == F(pattern)]\n",
    "\n",
    "   \n",
    "words1 = [\"abc\",\"deq\",\"mee\",\"aqq\",\"dkd\",\"ccc\"]\n",
    "pattern1 = \"abb\"\n",
    "words2 = [\"a\",\"b\",\"c\"]\n",
    "pattern2 = \"a\"\n",
    "findAndReplacePattern(words1, pattern1)"
   ]
  },
  {
   "cell_type": "code",
   "execution_count": null,
   "id": "b6638826",
   "metadata": {},
   "outputs": [],
   "source": []
  },
  {
   "cell_type": "code",
   "execution_count": 736,
   "id": "3c634180",
   "metadata": {
    "ExecuteTime": {
     "end_time": "2021-10-02T16:41:30.864993Z",
     "start_time": "2021-10-02T16:41:30.833340Z"
    }
   },
   "outputs": [
    {
     "data": {
      "text/plain": [
       "array([[[ 0,  0],\n",
       "        [-2,  0]],\n",
       "\n",
       "       [[ 2,  0],\n",
       "        [ 0,  0]]])"
      ]
     },
     "execution_count": 736,
     "metadata": {},
     "output_type": "execute_result"
    },
    {
     "data": {
      "text/plain": [
       "array([[0, 4],\n",
       "       [4, 0]], dtype=int32)"
      ]
     },
     "execution_count": 736,
     "metadata": {},
     "output_type": "execute_result"
    },
    {
     "data": {
      "text/plain": [
       "array([[0, 1],\n",
       "       [1, 0]], dtype=int64)"
      ]
     },
     "execution_count": 736,
     "metadata": {},
     "output_type": "execute_result"
    }
   ],
   "source": [
    "import random\n",
    "x = np.array(([1,2],[3,2]))\n",
    "x[:,np.newaxis,:] - x[np.newaxis,:,:]\n",
    "near = ((x[:,np.newaxis,:] - x[np.newaxis,:,:])**2).sum(axis=-1)\n",
    "near\n",
    "np.argsort(near, axis=1) "
   ]
  },
  {
   "cell_type": "code",
   "execution_count": 738,
   "id": "e7bd60ff",
   "metadata": {
    "ExecuteTime": {
     "end_time": "2021-10-02T16:46:02.599840Z",
     "start_time": "2021-10-02T16:46:02.581853Z"
    }
   },
   "outputs": [
    {
     "name": "stdout",
     "output_type": "stream",
     "text": [
      "1 2\n"
     ]
    }
   ],
   "source": [
    "a = 7\n",
    "b = 5\n",
    "print(*divmod(a, b))"
   ]
  },
  {
   "cell_type": "code",
   "execution_count": null,
   "id": "c5e17a61",
   "metadata": {},
   "outputs": [],
   "source": [
    "    1 2\n",
    "1 2 3 2\n",
    "3 2"
   ]
  },
  {
   "cell_type": "code",
   "execution_count": null,
   "id": "2b040c54",
   "metadata": {},
   "outputs": [],
   "source": []
  },
  {
   "cell_type": "markdown",
   "id": "dd8f2157",
   "metadata": {},
   "source": [
    "## codeup 6096"
   ]
  },
  {
   "cell_type": "code",
   "execution_count": null,
   "id": "1c2efd75",
   "metadata": {},
   "outputs": [],
   "source": [
    "import numpy as np\n",
    "\n",
    "_input = list(map(int, input().split()))\n",
    "board, n = np.array(_input[:361]).reshape(19,19), _input[361]\n",
    "coordinates = np.array(_input[362:]).reshape(-1,2) - 1\n",
    "\n",
    "for co in coordinates:\n",
    "    for x in range(len(board)):\n",
    "        board[co[0]][x] = 1 if(board[co[0]][x]==0) else 0\n",
    "        board[x][co[1]] = 1 if(board[x][co[1]]==0) else 0\n",
    "\n",
    "for i in board:\n",
    "    print(*i)"
   ]
  },
  {
   "cell_type": "code",
   "execution_count": null,
   "id": "9df4facc",
   "metadata": {},
   "outputs": [],
   "source": [
    "k=[]\n",
    "for i in range(19):\n",
    "    k.append(list(map(int, input().split())))\n",
    "\n",
    "n = int(input())\n",
    "for i in range(n):\n",
    "    x, y = map(int, input().split())\n",
    "    # 세로 뒤집기\n",
    "    for j in range(19):\n",
    "        k[x-1][j] = 0 if k[x-1][j]==1 else 1\n",
    "    # 가로 뒤집기\n",
    "    for j in range(19):\n",
    "        k[j][y-1] = 0 if k[j][y-1]==1 else 1\n",
    "\n",
    "for i in k:\n",
    "    for j in i:\n",
    "        print(j, end=' ')\n",
    "    print()\n"
   ]
  },
  {
   "cell_type": "markdown",
   "id": "87932deb",
   "metadata": {},
   "source": [
    "## codeup 6098"
   ]
  },
  {
   "cell_type": "code",
   "execution_count": null,
   "id": "9a4c1f8b",
   "metadata": {
    "ExecuteTime": {
     "end_time": "2021-10-05T17:37:21.482261Z",
     "start_time": "2021-10-05T17:37:20.415866Z"
    },
    "scrolled": true
   },
   "outputs": [],
   "source": [
    "maze = []\n",
    "\n",
    "## jupyter\n",
    "import numpy as np\n",
    "_input = list(map(int, input('input: ').split()))\n",
    "maze = np.array(_input).reshape(10,10)\n",
    "\n",
    "## vscode\n",
    "for _ in range(10):\n",
    "    maze.append(list(map(int, input('input: ').split())))\n",
    "\n",
    "    \n",
    "x, y = 1, 1\n",
    "maze[x][y] = 9\n",
    "\n",
    "while True:\n",
    "    if(maze[x][y+1]!=1):\n",
    "        y += 1\n",
    "    elif(maze[x+1][y]!=1):\n",
    "        x += 1\n",
    "        \n",
    "    if(maze[x][y]==2 or maze[x][y]==9):\n",
    "        maze[x][y] = 9\n",
    "        break;\n",
    "    maze[x][y] = 9\n",
    "\n",
    "for i in maze:\n",
    "    print(*i)"
   ]
  },
  {
   "cell_type": "code",
   "execution_count": null,
   "id": "e14ffb6e",
   "metadata": {},
   "outputs": [],
   "source": []
  },
  {
   "cell_type": "code",
   "execution_count": 41,
   "id": "bd7437f5",
   "metadata": {
    "ExecuteTime": {
     "end_time": "2021-10-06T10:12:55.976687Z",
     "start_time": "2021-10-06T10:12:55.947705Z"
    }
   },
   "outputs": [
    {
     "data": {
      "text/plain": [
       "[1, 0, 8, 1]"
      ]
     },
     "execution_count": 41,
     "metadata": {},
     "output_type": "execute_result"
    },
    {
     "data": {
      "text/plain": [
       "[1, 8, 0, 1]"
      ]
     },
     "execution_count": 41,
     "metadata": {},
     "output_type": "execute_result"
    }
   ],
   "source": [
    "def ladd(u,v):\n",
    "    n = max(len(u), len(v))\n",
    "    carry = 0\n",
    "    result = []\n",
    "    \n",
    "    for i in range(n):\n",
    "        x = u[i] if(i < len(u)) else 0\n",
    "        y = v[i] if(i < len(v)) else 0\n",
    "        value = x + y + carry\n",
    "        carry, rem = divmod(value, 10)\n",
    "        result.append(rem)\n",
    "    if(carry > 0):\n",
    "        result.append(carry)\n",
    "\n",
    "    return result\n",
    "\n",
    "u = [4,3,2,1]\n",
    "v = [7,6,5]\n",
    "ladd(u,v)\n",
    "ladd(u,v)[::-1]"
   ]
  },
  {
   "cell_type": "code",
   "execution_count": 55,
   "id": "6f535a5d",
   "metadata": {
    "ExecuteTime": {
     "end_time": "2021-10-06T10:26:23.619706Z",
     "start_time": "2021-10-06T10:26:23.598695Z"
    }
   },
   "outputs": [],
   "source": [
    "def lprod(u,v, threshold=1):\n",
    "    if(len(u)==0 or len(v)==0): return[0]\n",
    "    n = max(len(u), len(v))\n",
    "    if(n <= threshold):\n",
    "        u_int = int(''.join(map(str, u[::-1])))\n",
    "        v_int = int(''.join(map(str, v[::-1])))\n",
    "        return u_int * v_int\n",
    "    else:\n",
    "        m = n // 2\n",
    "        x = u[len(u)-m:]; y = u[:m+1]\n",
    "        w = v[len(v)-m:]; z = v[:m+1]\n",
    "    \n",
    "    \n",
    "    \n",
    "    \n",
    "u = [4,3,2,1]\n",
    "v = [7,6,5]\n",
    "lprod(u,v)"
   ]
  },
  {
   "cell_type": "code",
   "execution_count": 63,
   "id": "5e05d857",
   "metadata": {
    "ExecuteTime": {
     "end_time": "2021-10-06T10:35:55.739167Z",
     "start_time": "2021-10-06T10:35:55.718183Z"
    }
   },
   "outputs": [
    {
     "data": {
      "text/plain": [
       "1234567"
      ]
     },
     "execution_count": 63,
     "metadata": {},
     "output_type": "execute_result"
    },
    {
     "data": {
      "text/plain": [
       "[3, 2, 1]"
      ]
     },
     "execution_count": 63,
     "metadata": {},
     "output_type": "execute_result"
    }
   ],
   "source": [
    "n=3\n",
    "u = [7,6,5,4,3,2,1]\n",
    "v = [7]\n",
    "int(''.join(map(str, u[::-1])))\n",
    "\n",
    "u[len(u)-n:]"
   ]
  }
 ],
 "metadata": {
  "kernelspec": {
   "display_name": "Python 3",
   "language": "python",
   "name": "python3"
  },
  "language_info": {
   "codemirror_mode": {
    "name": "ipython",
    "version": 3
   },
   "file_extension": ".py",
   "mimetype": "text/x-python",
   "name": "python",
   "nbconvert_exporter": "python",
   "pygments_lexer": "ipython3",
   "version": "3.8.11"
  },
  "toc": {
   "base_numbering": 1,
   "nav_menu": {},
   "number_sections": false,
   "sideBar": true,
   "skip_h1_title": false,
   "title_cell": "Table of Contents",
   "title_sidebar": "Contents",
   "toc_cell": true,
   "toc_position": {
    "height": "calc(100% - 180px)",
    "left": "10px",
    "top": "150px",
    "width": "165px"
   },
   "toc_section_display": true,
   "toc_window_display": true
  },
  "varInspector": {
   "cols": {
    "lenName": 16,
    "lenType": 16,
    "lenVar": 40
   },
   "kernels_config": {
    "python": {
     "delete_cmd_postfix": "",
     "delete_cmd_prefix": "del ",
     "library": "var_list.py",
     "varRefreshCmd": "print(var_dic_list())"
    },
    "r": {
     "delete_cmd_postfix": ") ",
     "delete_cmd_prefix": "rm(",
     "library": "var_list.r",
     "varRefreshCmd": "cat(var_dic_list()) "
    }
   },
   "types_to_exclude": [
    "module",
    "function",
    "builtin_function_or_method",
    "instance",
    "_Feature"
   ],
   "window_display": false
  }
 },
 "nbformat": 4,
 "nbformat_minor": 5
}
