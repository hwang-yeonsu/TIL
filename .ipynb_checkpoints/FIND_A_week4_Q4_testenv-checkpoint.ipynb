{
 "cells": [
  {
   "cell_type": "code",
   "execution_count": 1,
   "metadata": {
    "scrolled": false
   },
   "outputs": [
    {
     "name": "stdout",
     "output_type": "stream",
     "text": [
      "# conda environments:\n",
      "#\n",
      "base                     C:\\Anaconda3\n",
      "Binance                  C:\\Anaconda3\\envs\\Binance\n",
      "FIND_A                   C:\\Anaconda3\\envs\\FIND_A\n",
      "tensorflow               C:\\Anaconda3\\envs\\tensorflow\n",
      "test                  *  C:\\Anaconda3\\envs\\test\n",
      "\n"
     ]
    }
   ],
   "source": [
    "!conda env list"
   ]
  },
  {
   "cell_type": "code",
   "execution_count": 9,
   "metadata": {
    "scrolled": true
   },
   "outputs": [
    {
     "name": "stdout",
     "output_type": "stream",
     "text": [
      "numpy==1.21.0\n"
     ]
    },
    {
     "name": "stderr",
     "output_type": "stream",
     "text": [
      "You are using pip version 10.0.1, however version 21.2.4 is available.\n",
      "You should consider upgrading via the 'python -m pip install --upgrade pip' command.\n"
     ]
    }
   ],
   "source": [
    "!pip freeze"
   ]
  },
  {
   "cell_type": "markdown",
   "metadata": {},
   "source": [
    "##### OVB"
   ]
  },
  {
   "cell_type": "code",
   "execution_count": 5,
   "metadata": {
    "scrolled": true
   },
   "outputs": [
    {
     "name": "stderr",
     "output_type": "stream",
     "text": [
      "<ipython-input-5-97b0d99f7523>:17: DeprecationWarning: The default dtype for empty Series will be 'object' instead of 'float64' in a future version. Specify a dtype explicitly to silence this warning.\n",
      "  obv = pd.Series(index=close.index)\n"
     ]
    },
    {
     "data": {
      "image/png": "[encoded data removed]",
      "text/plain": [
       "<Figure size 864x144 with 1 Axes>"
      ]
     },
     "metadata": {
      "needs_background": "light"
     },
     "output_type": "display_data"
    }
   ],
   "source": [
    "import pandas as pd\n",
    "import numpy as np\n",
    "import matplotlib.pyplot as plt\n",
    "%matplotlib inline\n",
    "\n",
    "price = pd.read_pickle('./005930.pkl')\n",
    "\n",
    "open = price.open\n",
    "high = price.high\n",
    "low = price.low\n",
    "close = price.close\n",
    "volume = price.volume\n",
    "\n",
    "def OBV(close, volume):\n",
    "    \n",
    "    # obv가 저장될 pandas series를 생성\n",
    "    obv = pd.Series(index=close.index)\n",
    "    obv.iloc[0] = volume.iloc[0]\n",
    "    \n",
    "    # OBV 산출공식을 구현\n",
    "    # pd.Series 구조를 연산에 직접 사용\n",
    "    for i in range(1,len(close)):\n",
    "        if (close[i] > close[i-1]):\n",
    "            obv[i] = obv[i-1] + volume[i]\n",
    "        elif (close[i] < close[i-1]):\n",
    "            obv[i] = obv[i-1] - volume[i]\n",
    "        else:\n",
    "            obv[i] = obv[i-1]\n",
    "            \n",
    "    return obv\n",
    "\n",
    "obv = OBV(close, volume)\n",
    "obv.plot(figsize=(12,2));"
   ]
  },
  {
   "cell_type": "code",
   "execution_count": 10,
   "metadata": {
    "scrolled": true
   },
   "outputs": [
    {
     "name": "stderr",
     "output_type": "stream",
     "text": [
      "You are using pip version 10.0.1, however version 21.2.4 is available.\n",
      "You should consider upgrading via the 'python -m pip install --upgrade pip' command.\n"
     ]
    }
   ],
   "source": [
    "!pip freeze > requirement.txt"
   ]
  },
  {
   "cell_type": "code",
   "execution_count": 3,
   "metadata": {},
   "outputs": [
    {
     "name": "stdout",
     "output_type": "stream",
     "text": [
      "# conda environments:\n",
      "#\n",
      "base                     C:\\Anaconda3\n",
      "Binance                  C:\\Anaconda3\\envs\\Binance\n",
      "FIND_A                *  C:\\Anaconda3\\envs\\FIND_A\n",
      "tensorflow               C:\\Anaconda3\\envs\\tensorflow\n",
      "test                     C:\\Anaconda3\\envs\\test\n",
      "\n"
     ]
    }
   ],
   "source": [
    "!conda env list"
   ]
  },
  {
   "cell_type": "code",
   "execution_count": 4,
   "metadata": {},
   "outputs": [],
   "source": [
    "!conda activate test"
   ]
  },
  {
   "cell_type": "code",
   "execution_count": null,
   "metadata": {},
   "outputs": [],
   "source": [
    "# !conda env list\n",
    "# !jupyter notebook"
   ]
  }
 ],
 "metadata": {
  "kernelspec": {
   "display_name": "Python 3",
   "language": "python",
   "name": "python3"
  },
  "language_info": {
   "codemirror_mode": {
    "name": "ipython",
    "version": 3
   },
   "file_extension": ".py",
   "mimetype": "text/x-python",
   "name": "python",
   "nbconvert_exporter": "python",
   "pygments_lexer": "ipython3",
   "version": "3.8.11"
  }
 },
 "nbformat": 4,
 "nbformat_minor": 4
}
