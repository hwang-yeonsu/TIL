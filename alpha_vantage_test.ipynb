{
 "cells": [
  {
   "cell_type": "markdown",
   "id": "0c070728",
   "metadata": {
    "toc": true
   },
   "source": [
    "<h1>Table of Contents<span class=\"tocSkip\"></span></h1>\n",
    "<div class=\"toc\"><ul class=\"toc-item\"><li><span><a href=\"#TimeSeries(Stock)\" data-toc-modified-id=\"TimeSeries(Stock)-1\">TimeSeries(Stock)</a></span><ul class=\"toc-item\"><li><span><a href=\"#Intraday\" data-toc-modified-id=\"Intraday-1.1\">Intraday</a></span></li><li><span><a href=\"#Intraday-Extended\" data-toc-modified-id=\"Intraday-Extended-1.2\">Intraday Extended</a></span></li><li><span><a href=\"#Daily-Adjusted\" data-toc-modified-id=\"Daily-Adjusted-1.3\">Daily Adjusted</a></span></li><li><span><a href=\"#Symbol-Search\" data-toc-modified-id=\"Symbol-Search-1.4\">Symbol Search</a></span></li></ul></li><li><span><a href=\"#Sector-Performance\" data-toc-modified-id=\"Sector-Performance-2\">Sector Performance</a></span><ul class=\"toc-item\"><li><span><a href=\"#Sector-Performance\" data-toc-modified-id=\"Sector-Performance-2.1\">Sector Performance</a></span></li></ul></li><li><span><a href=\"#Fundamental-Data\" data-toc-modified-id=\"Fundamental-Data-3\">Fundamental Data</a></span><ul class=\"toc-item\"><li><span><a href=\"#Company-Overview\" data-toc-modified-id=\"Company-Overview-3.1\">Company Overview</a></span></li></ul></li><li><span><a href=\"#Foreign-Exchange-(FX)\" data-toc-modified-id=\"Foreign-Exchange-(FX)-4\">Foreign Exchange (FX)</a></span><ul class=\"toc-item\"><li><span><a href=\"#Fx-Intraday\" data-toc-modified-id=\"Fx-Intraday-4.1\">Fx Intraday</a></span></li></ul></li><li><span><a href=\"#Digital-&amp;-Crypto-Currencies\" data-toc-modified-id=\"Digital-&amp;-Crypto-Currencies-5\">Digital &amp; Crypto Currencies</a></span><ul class=\"toc-item\"><li><span><a href=\"#Crypto-Daily\" data-toc-modified-id=\"Crypto-Daily-5.1\">Crypto Daily</a></span></li></ul></li><li><span><a href=\"#Technical-Indicators(Only-Stocks)\" data-toc-modified-id=\"Technical-Indicators(Only-Stocks)-6\">Technical Indicators(Only Stocks)</a></span><ul class=\"toc-item\"><li><span><a href=\"#BB\" data-toc-modified-id=\"BB-6.1\">BB</a></span></li></ul></li><li><span><a href=\"#Conclusion\" data-toc-modified-id=\"Conclusion-7\">Conclusion</a></span></li></ul></div>"
   ]
  },
  {
   "cell_type": "code",
   "execution_count": 1,
   "id": "3d535ed2",
   "metadata": {
    "ExecuteTime": {
     "end_time": "2021-10-19T10:20:27.901834Z",
     "start_time": "2021-10-19T10:20:25.412666Z"
    }
   },
   "outputs": [],
   "source": [
    "import pandas as pd\n",
    "import numpy as np\n",
    "%matplotlib inline"
   ]
  },
  {
   "cell_type": "markdown",
   "id": "fd4b7553",
   "metadata": {},
   "source": [
    "# TimeSeries(Stock)"
   ]
  },
  {
   "cell_type": "code",
   "execution_count": 2,
   "id": "2c7f6589",
   "metadata": {
    "ExecuteTime": {
     "end_time": "2021-10-19T10:20:29.494167Z",
     "start_time": "2021-10-19T10:20:29.238815Z"
    }
   },
   "outputs": [],
   "source": [
    "from alpha_vantage.timeseries import TimeSeries"
   ]
  },
  {
   "cell_type": "markdown",
   "id": "7e11e0d1",
   "metadata": {},
   "source": [
    "## Intraday"
   ]
  },
  {
   "cell_type": "code",
   "execution_count": 10,
   "id": "861a3c7f",
   "metadata": {
    "ExecuteTime": {
     "end_time": "2021-10-19T10:22:02.389453Z",
     "start_time": "2021-10-19T10:22:01.403260Z"
    }
   },
   "outputs": [
    {
     "data": {
      "text/plain": [
       "{'1. Information': 'Intraday (1min) open, high, low, close prices and volume',\n",
       " '2. Symbol': 'aapl',\n",
       " '3. Last Refreshed': '2021-10-18 20:00:00',\n",
       " '4. Interval': '1min',\n",
       " '5. Output Size': 'Compact',\n",
       " '6. Time Zone': 'US/Eastern'}"
      ]
     },
     "execution_count": 10,
     "metadata": {},
     "output_type": "execute_result"
    }
   ],
   "source": [
    "## TimeSeries(key='',output_format='').get_intraday(symbol='',interval='',outputsize='')\n",
    "data, meta_data = TimeSeries('YOUR_API_KEY', 'pandas').get_intraday('aapl','1min','compact')\n",
    "meta_data"
   ]
  },
  {
   "cell_type": "code",
   "execution_count": 66,
   "id": "018f886c",
   "metadata": {
    "ExecuteTime": {
     "end_time": "2021-10-12T16:03:58.221849Z",
     "start_time": "2021-10-12T16:03:57.491114Z"
    }
   },
   "outputs": [
    {
     "data": {
      "text/html": [
       "<div>\n",
       "<style scoped>\n",
       "    .dataframe tbody tr th:only-of-type {\n",
       "        vertical-align: middle;\n",
       "    }\n",
       "\n",
       "    .dataframe tbody tr th {\n",
       "        vertical-align: top;\n",
       "    }\n",
       "\n",
       "    .dataframe thead th {\n",
       "        text-align: right;\n",
       "    }\n",
       "</style>\n",
       "<table border=\"1\" class=\"dataframe\">\n",
       "  <thead>\n",
       "    <tr style=\"text-align: right;\">\n",
       "      <th></th>\n",
       "      <th>1. open</th>\n",
       "      <th>2. high</th>\n",
       "      <th>3. low</th>\n",
       "      <th>4. close</th>\n",
       "      <th>5. volume</th>\n",
       "    </tr>\n",
       "    <tr>\n",
       "      <th>date</th>\n",
       "      <th></th>\n",
       "      <th></th>\n",
       "      <th></th>\n",
       "      <th></th>\n",
       "      <th></th>\n",
       "    </tr>\n",
       "  </thead>\n",
       "  <tbody>\n",
       "    <tr>\n",
       "      <th>2021-10-11 20:00:00</th>\n",
       "      <td>142.59</td>\n",
       "      <td>142.6300</td>\n",
       "      <td>142.57</td>\n",
       "      <td>142.5900</td>\n",
       "      <td>2714.0</td>\n",
       "    </tr>\n",
       "    <tr>\n",
       "      <th>2021-10-11 19:59:00</th>\n",
       "      <td>142.59</td>\n",
       "      <td>142.6200</td>\n",
       "      <td>142.59</td>\n",
       "      <td>142.5900</td>\n",
       "      <td>941.0</td>\n",
       "    </tr>\n",
       "    <tr>\n",
       "      <th>2021-10-11 19:57:00</th>\n",
       "      <td>142.59</td>\n",
       "      <td>142.5900</td>\n",
       "      <td>142.59</td>\n",
       "      <td>142.5900</td>\n",
       "      <td>259.0</td>\n",
       "    </tr>\n",
       "    <tr>\n",
       "      <th>2021-10-11 19:56:00</th>\n",
       "      <td>142.56</td>\n",
       "      <td>142.5600</td>\n",
       "      <td>142.54</td>\n",
       "      <td>142.5400</td>\n",
       "      <td>804.0</td>\n",
       "    </tr>\n",
       "    <tr>\n",
       "      <th>2021-10-11 19:55:00</th>\n",
       "      <td>142.59</td>\n",
       "      <td>142.6000</td>\n",
       "      <td>142.59</td>\n",
       "      <td>142.6000</td>\n",
       "      <td>3411.0</td>\n",
       "    </tr>\n",
       "    <tr>\n",
       "      <th>...</th>\n",
       "      <td>...</td>\n",
       "      <td>...</td>\n",
       "      <td>...</td>\n",
       "      <td>...</td>\n",
       "      <td>...</td>\n",
       "    </tr>\n",
       "    <tr>\n",
       "      <th>2021-10-11 17:15:00</th>\n",
       "      <td>142.59</td>\n",
       "      <td>142.5999</td>\n",
       "      <td>142.58</td>\n",
       "      <td>142.5999</td>\n",
       "      <td>2550.0</td>\n",
       "    </tr>\n",
       "    <tr>\n",
       "      <th>2021-10-11 17:14:00</th>\n",
       "      <td>142.59</td>\n",
       "      <td>142.5900</td>\n",
       "      <td>142.59</td>\n",
       "      <td>142.5900</td>\n",
       "      <td>1015.0</td>\n",
       "    </tr>\n",
       "    <tr>\n",
       "      <th>2021-10-11 17:13:00</th>\n",
       "      <td>142.59</td>\n",
       "      <td>142.5900</td>\n",
       "      <td>142.59</td>\n",
       "      <td>142.5900</td>\n",
       "      <td>523.0</td>\n",
       "    </tr>\n",
       "    <tr>\n",
       "      <th>2021-10-11 17:12:00</th>\n",
       "      <td>142.57</td>\n",
       "      <td>142.5700</td>\n",
       "      <td>142.57</td>\n",
       "      <td>142.5700</td>\n",
       "      <td>504.0</td>\n",
       "    </tr>\n",
       "    <tr>\n",
       "      <th>2021-10-11 17:10:00</th>\n",
       "      <td>142.56</td>\n",
       "      <td>142.5600</td>\n",
       "      <td>142.56</td>\n",
       "      <td>142.5600</td>\n",
       "      <td>2098.0</td>\n",
       "    </tr>\n",
       "  </tbody>\n",
       "</table>\n",
       "<p>100 rows × 5 columns</p>\n",
       "</div>"
      ],
      "text/plain": [
       "                     1. open   2. high  3. low  4. close  5. volume\n",
       "date                                                               \n",
       "2021-10-11 20:00:00   142.59  142.6300  142.57  142.5900     2714.0\n",
       "2021-10-11 19:59:00   142.59  142.6200  142.59  142.5900      941.0\n",
       "2021-10-11 19:57:00   142.59  142.5900  142.59  142.5900      259.0\n",
       "2021-10-11 19:56:00   142.56  142.5600  142.54  142.5400      804.0\n",
       "2021-10-11 19:55:00   142.59  142.6000  142.59  142.6000     3411.0\n",
       "...                      ...       ...     ...       ...        ...\n",
       "2021-10-11 17:15:00   142.59  142.5999  142.58  142.5999     2550.0\n",
       "2021-10-11 17:14:00   142.59  142.5900  142.59  142.5900     1015.0\n",
       "2021-10-11 17:13:00   142.59  142.5900  142.59  142.5900      523.0\n",
       "2021-10-11 17:12:00   142.57  142.5700  142.57  142.5700      504.0\n",
       "2021-10-11 17:10:00   142.56  142.5600  142.56  142.5600     2098.0\n",
       "\n",
       "[100 rows x 5 columns]"
      ]
     },
     "execution_count": 66,
     "metadata": {},
     "output_type": "execute_result"
    },
    {
     "data": {
      "text/plain": [
       "<AxesSubplot:xlabel='date'>"
      ]
     },
     "execution_count": 66,
     "metadata": {},
     "output_type": "execute_result"
    },
    {
     "data": {
      "image/png": "[encoded data removed]",
      "text/plain": [
       "<Figure size 432x288 with 1 Axes>"
      ]
     },
     "metadata": {
      "needs_background": "light"
     },
     "output_type": "display_data"
    }
   ],
   "source": [
    "data\n",
    "data['4. close'].plot()"
   ]
  },
  {
   "cell_type": "markdown",
   "id": "41bb0a3c",
   "metadata": {},
   "source": [
    "## Intraday Extended"
   ]
  },
  {
   "cell_type": "code",
   "execution_count": 32,
   "id": "fba6e8ad",
   "metadata": {
    "ExecuteTime": {
     "end_time": "2021-10-12T15:50:12.897702Z",
     "start_time": "2021-10-12T15:50:12.883735Z"
    },
    "scrolled": true
   },
   "outputs": [],
   "source": [
    "## get_intraday_extended: malfunction"
   ]
  },
  {
   "cell_type": "markdown",
   "id": "d635658f",
   "metadata": {},
   "source": [
    "## Daily Adjusted"
   ]
  },
  {
   "cell_type": "code",
   "execution_count": 34,
   "id": "840106a1",
   "metadata": {
    "ExecuteTime": {
     "end_time": "2021-10-12T15:51:46.459657Z",
     "start_time": "2021-10-12T15:51:45.012727Z"
    },
    "scrolled": true
   },
   "outputs": [
    {
     "data": {
      "text/plain": [
       "{'1. Information': 'Daily Time Series with Splits and Dividend Events',\n",
       " '2. Symbol': 'aapl',\n",
       " '3. Last Refreshed': '2021-10-11',\n",
       " '4. Output Size': 'Compact',\n",
       " '5. Time Zone': 'US/Eastern'}"
      ]
     },
     "execution_count": 34,
     "metadata": {},
     "output_type": "execute_result"
    }
   ],
   "source": [
    "data, meta_data = TimeSeries('YOUR_API_KEY', 'pandas').get_daily_adjusted('aapl','compact')\n",
    "meta_data"
   ]
  },
  {
   "cell_type": "code",
   "execution_count": 35,
   "id": "9b080811",
   "metadata": {
    "ExecuteTime": {
     "end_time": "2021-10-12T15:51:57.002414Z",
     "start_time": "2021-10-12T15:51:56.957439Z"
    }
   },
   "outputs": [
    {
     "data": {
      "text/html": [
       "<div>\n",
       "<style scoped>\n",
       "    .dataframe tbody tr th:only-of-type {\n",
       "        vertical-align: middle;\n",
       "    }\n",
       "\n",
       "    .dataframe tbody tr th {\n",
       "        vertical-align: top;\n",
       "    }\n",
       "\n",
       "    .dataframe thead th {\n",
       "        text-align: right;\n",
       "    }\n",
       "</style>\n",
       "<table border=\"1\" class=\"dataframe\">\n",
       "  <thead>\n",
       "    <tr style=\"text-align: right;\">\n",
       "      <th></th>\n",
       "      <th>1. open</th>\n",
       "      <th>2. high</th>\n",
       "      <th>3. low</th>\n",
       "      <th>4. close</th>\n",
       "      <th>5. adjusted close</th>\n",
       "      <th>6. volume</th>\n",
       "      <th>7. dividend amount</th>\n",
       "      <th>8. split coefficient</th>\n",
       "    </tr>\n",
       "    <tr>\n",
       "      <th>date</th>\n",
       "      <th></th>\n",
       "      <th></th>\n",
       "      <th></th>\n",
       "      <th></th>\n",
       "      <th></th>\n",
       "      <th></th>\n",
       "      <th></th>\n",
       "      <th></th>\n",
       "    </tr>\n",
       "  </thead>\n",
       "  <tbody>\n",
       "    <tr>\n",
       "      <th>2021-10-11</th>\n",
       "      <td>142.270</td>\n",
       "      <td>144.8100</td>\n",
       "      <td>141.81</td>\n",
       "      <td>142.81</td>\n",
       "      <td>142.810000</td>\n",
       "      <td>64452219.0</td>\n",
       "      <td>0.0</td>\n",
       "      <td>1.0</td>\n",
       "    </tr>\n",
       "    <tr>\n",
       "      <th>2021-10-08</th>\n",
       "      <td>144.030</td>\n",
       "      <td>144.1781</td>\n",
       "      <td>142.56</td>\n",
       "      <td>142.90</td>\n",
       "      <td>142.900000</td>\n",
       "      <td>58773155.0</td>\n",
       "      <td>0.0</td>\n",
       "      <td>1.0</td>\n",
       "    </tr>\n",
       "    <tr>\n",
       "      <th>2021-10-07</th>\n",
       "      <td>143.060</td>\n",
       "      <td>144.2150</td>\n",
       "      <td>142.72</td>\n",
       "      <td>143.29</td>\n",
       "      <td>143.290000</td>\n",
       "      <td>61732656.0</td>\n",
       "      <td>0.0</td>\n",
       "      <td>1.0</td>\n",
       "    </tr>\n",
       "    <tr>\n",
       "      <th>2021-10-06</th>\n",
       "      <td>139.470</td>\n",
       "      <td>142.1500</td>\n",
       "      <td>138.37</td>\n",
       "      <td>142.00</td>\n",
       "      <td>142.000000</td>\n",
       "      <td>83221119.0</td>\n",
       "      <td>0.0</td>\n",
       "      <td>1.0</td>\n",
       "    </tr>\n",
       "    <tr>\n",
       "      <th>2021-10-05</th>\n",
       "      <td>139.490</td>\n",
       "      <td>142.2400</td>\n",
       "      <td>139.36</td>\n",
       "      <td>141.11</td>\n",
       "      <td>141.110000</td>\n",
       "      <td>80861062.0</td>\n",
       "      <td>0.0</td>\n",
       "      <td>1.0</td>\n",
       "    </tr>\n",
       "    <tr>\n",
       "      <th>...</th>\n",
       "      <td>...</td>\n",
       "      <td>...</td>\n",
       "      <td>...</td>\n",
       "      <td>...</td>\n",
       "      <td>...</td>\n",
       "      <td>...</td>\n",
       "      <td>...</td>\n",
       "      <td>...</td>\n",
       "    </tr>\n",
       "    <tr>\n",
       "      <th>2021-05-26</th>\n",
       "      <td>126.955</td>\n",
       "      <td>127.3900</td>\n",
       "      <td>126.42</td>\n",
       "      <td>126.85</td>\n",
       "      <td>126.659326</td>\n",
       "      <td>56575920.0</td>\n",
       "      <td>0.0</td>\n",
       "      <td>1.0</td>\n",
       "    </tr>\n",
       "    <tr>\n",
       "      <th>2021-05-25</th>\n",
       "      <td>127.820</td>\n",
       "      <td>128.3200</td>\n",
       "      <td>126.32</td>\n",
       "      <td>126.90</td>\n",
       "      <td>126.709251</td>\n",
       "      <td>72009482.0</td>\n",
       "      <td>0.0</td>\n",
       "      <td>1.0</td>\n",
       "    </tr>\n",
       "    <tr>\n",
       "      <th>2021-05-24</th>\n",
       "      <td>126.010</td>\n",
       "      <td>127.9400</td>\n",
       "      <td>125.94</td>\n",
       "      <td>127.10</td>\n",
       "      <td>126.908951</td>\n",
       "      <td>63092945.0</td>\n",
       "      <td>0.0</td>\n",
       "      <td>1.0</td>\n",
       "    </tr>\n",
       "    <tr>\n",
       "      <th>2021-05-21</th>\n",
       "      <td>127.820</td>\n",
       "      <td>128.0000</td>\n",
       "      <td>125.21</td>\n",
       "      <td>125.43</td>\n",
       "      <td>125.241461</td>\n",
       "      <td>79295436.0</td>\n",
       "      <td>0.0</td>\n",
       "      <td>1.0</td>\n",
       "    </tr>\n",
       "    <tr>\n",
       "      <th>2021-05-20</th>\n",
       "      <td>125.230</td>\n",
       "      <td>127.7200</td>\n",
       "      <td>125.10</td>\n",
       "      <td>127.31</td>\n",
       "      <td>127.118635</td>\n",
       "      <td>76857123.0</td>\n",
       "      <td>0.0</td>\n",
       "      <td>1.0</td>\n",
       "    </tr>\n",
       "  </tbody>\n",
       "</table>\n",
       "<p>100 rows × 8 columns</p>\n",
       "</div>"
      ],
      "text/plain": [
       "            1. open   2. high  3. low  4. close  5. adjusted close  \\\n",
       "date                                                                 \n",
       "2021-10-11  142.270  144.8100  141.81    142.81         142.810000   \n",
       "2021-10-08  144.030  144.1781  142.56    142.90         142.900000   \n",
       "2021-10-07  143.060  144.2150  142.72    143.29         143.290000   \n",
       "2021-10-06  139.470  142.1500  138.37    142.00         142.000000   \n",
       "2021-10-05  139.490  142.2400  139.36    141.11         141.110000   \n",
       "...             ...       ...     ...       ...                ...   \n",
       "2021-05-26  126.955  127.3900  126.42    126.85         126.659326   \n",
       "2021-05-25  127.820  128.3200  126.32    126.90         126.709251   \n",
       "2021-05-24  126.010  127.9400  125.94    127.10         126.908951   \n",
       "2021-05-21  127.820  128.0000  125.21    125.43         125.241461   \n",
       "2021-05-20  125.230  127.7200  125.10    127.31         127.118635   \n",
       "\n",
       "             6. volume  7. dividend amount  8. split coefficient  \n",
       "date                                                              \n",
       "2021-10-11  64452219.0                 0.0                   1.0  \n",
       "2021-10-08  58773155.0                 0.0                   1.0  \n",
       "2021-10-07  61732656.0                 0.0                   1.0  \n",
       "2021-10-06  83221119.0                 0.0                   1.0  \n",
       "2021-10-05  80861062.0                 0.0                   1.0  \n",
       "...                ...                 ...                   ...  \n",
       "2021-05-26  56575920.0                 0.0                   1.0  \n",
       "2021-05-25  72009482.0                 0.0                   1.0  \n",
       "2021-05-24  63092945.0                 0.0                   1.0  \n",
       "2021-05-21  79295436.0                 0.0                   1.0  \n",
       "2021-05-20  76857123.0                 0.0                   1.0  \n",
       "\n",
       "[100 rows x 8 columns]"
      ]
     },
     "execution_count": 35,
     "metadata": {},
     "output_type": "execute_result"
    }
   ],
   "source": [
    "data"
   ]
  },
  {
   "cell_type": "markdown",
   "id": "9bab7422",
   "metadata": {},
   "source": [
    "## Symbol Search"
   ]
  },
  {
   "cell_type": "code",
   "execution_count": 63,
   "id": "2ed37141",
   "metadata": {
    "ExecuteTime": {
     "end_time": "2021-10-12T16:02:47.281287Z",
     "start_time": "2021-10-12T16:02:46.090639Z"
    },
    "scrolled": true
   },
   "outputs": [],
   "source": [
    "data, meta_data = TimeSeries('YOUR_API_KEY', 'pandas').get_symbol_search('facebook')\n",
    "meta_data   ## _"
   ]
  },
  {
   "cell_type": "code",
   "execution_count": 64,
   "id": "47a9ea91",
   "metadata": {
    "ExecuteTime": {
     "end_time": "2021-10-12T16:02:48.432137Z",
     "start_time": "2021-10-12T16:02:48.409155Z"
    }
   },
   "outputs": [
    {
     "data": {
      "text/html": [
       "<div>\n",
       "<style scoped>\n",
       "    .dataframe tbody tr th:only-of-type {\n",
       "        vertical-align: middle;\n",
       "    }\n",
       "\n",
       "    .dataframe tbody tr th {\n",
       "        vertical-align: top;\n",
       "    }\n",
       "\n",
       "    .dataframe thead th {\n",
       "        text-align: right;\n",
       "    }\n",
       "</style>\n",
       "<table border=\"1\" class=\"dataframe\">\n",
       "  <thead>\n",
       "    <tr style=\"text-align: right;\">\n",
       "      <th></th>\n",
       "      <th>1. symbol</th>\n",
       "      <th>2. name</th>\n",
       "      <th>3. type</th>\n",
       "      <th>4. region</th>\n",
       "      <th>5. marketOpen</th>\n",
       "      <th>6. marketClose</th>\n",
       "      <th>7. timezone</th>\n",
       "      <th>8. currency</th>\n",
       "      <th>9. matchScore</th>\n",
       "    </tr>\n",
       "    <tr>\n",
       "      <th>date</th>\n",
       "      <th></th>\n",
       "      <th></th>\n",
       "      <th></th>\n",
       "      <th></th>\n",
       "      <th></th>\n",
       "      <th></th>\n",
       "      <th></th>\n",
       "      <th></th>\n",
       "      <th></th>\n",
       "    </tr>\n",
       "  </thead>\n",
       "  <tbody>\n",
       "    <tr>\n",
       "      <th>1970-01-01 00:00:00.000000000</th>\n",
       "      <td>FB2A.DEX</td>\n",
       "      <td>Facebook Inc</td>\n",
       "      <td>Equity</td>\n",
       "      <td>XETRA</td>\n",
       "      <td>08:00</td>\n",
       "      <td>20:00</td>\n",
       "      <td>UTC+02</td>\n",
       "      <td>EUR</td>\n",
       "      <td>0.8000</td>\n",
       "    </tr>\n",
       "    <tr>\n",
       "      <th>1970-01-01 00:00:00.000000001</th>\n",
       "      <td>FB2A.FRK</td>\n",
       "      <td>Facebook Inc</td>\n",
       "      <td>Equity</td>\n",
       "      <td>Frankfurt</td>\n",
       "      <td>08:00</td>\n",
       "      <td>20:00</td>\n",
       "      <td>UTC+02</td>\n",
       "      <td>EUR</td>\n",
       "      <td>0.8000</td>\n",
       "    </tr>\n",
       "    <tr>\n",
       "      <th>1970-01-01 00:00:00.000000002</th>\n",
       "      <td>FBOK34.SAO</td>\n",
       "      <td>Facebook Inc</td>\n",
       "      <td>Equity</td>\n",
       "      <td>Brazil/Sao Paolo</td>\n",
       "      <td>10:00</td>\n",
       "      <td>17:30</td>\n",
       "      <td>UTC-03</td>\n",
       "      <td>BRL</td>\n",
       "      <td>0.8000</td>\n",
       "    </tr>\n",
       "    <tr>\n",
       "      <th>1970-01-01 00:00:00.000000003</th>\n",
       "      <td>0QZI.LON</td>\n",
       "      <td>Facebook Inc. Cl A</td>\n",
       "      <td>Equity</td>\n",
       "      <td>United Kingdom</td>\n",
       "      <td>08:00</td>\n",
       "      <td>16:30</td>\n",
       "      <td>UTC+01</td>\n",
       "      <td>GBP</td>\n",
       "      <td>0.6154</td>\n",
       "    </tr>\n",
       "    <tr>\n",
       "      <th>1970-01-01 00:00:00.000000004</th>\n",
       "      <td>FB</td>\n",
       "      <td>Facebook Inc - Class A</td>\n",
       "      <td>Equity</td>\n",
       "      <td>United States</td>\n",
       "      <td>09:30</td>\n",
       "      <td>16:00</td>\n",
       "      <td>UTC-04</td>\n",
       "      <td>USD</td>\n",
       "      <td>0.5333</td>\n",
       "    </tr>\n",
       "  </tbody>\n",
       "</table>\n",
       "</div>"
      ],
      "text/plain": [
       "                                1. symbol                 2. name 3. type  \\\n",
       "date                                                                        \n",
       "1970-01-01 00:00:00.000000000    FB2A.DEX            Facebook Inc  Equity   \n",
       "1970-01-01 00:00:00.000000001    FB2A.FRK            Facebook Inc  Equity   \n",
       "1970-01-01 00:00:00.000000002  FBOK34.SAO            Facebook Inc  Equity   \n",
       "1970-01-01 00:00:00.000000003    0QZI.LON      Facebook Inc. Cl A  Equity   \n",
       "1970-01-01 00:00:00.000000004          FB  Facebook Inc - Class A  Equity   \n",
       "\n",
       "                                      4. region 5. marketOpen 6. marketClose  \\\n",
       "date                                                                           \n",
       "1970-01-01 00:00:00.000000000             XETRA         08:00          20:00   \n",
       "1970-01-01 00:00:00.000000001         Frankfurt         08:00          20:00   \n",
       "1970-01-01 00:00:00.000000002  Brazil/Sao Paolo         10:00          17:30   \n",
       "1970-01-01 00:00:00.000000003    United Kingdom         08:00          16:30   \n",
       "1970-01-01 00:00:00.000000004     United States         09:30          16:00   \n",
       "\n",
       "                              7. timezone 8. currency 9. matchScore  \n",
       "date                                                                 \n",
       "1970-01-01 00:00:00.000000000      UTC+02         EUR        0.8000  \n",
       "1970-01-01 00:00:00.000000001      UTC+02         EUR        0.8000  \n",
       "1970-01-01 00:00:00.000000002      UTC-03         BRL        0.8000  \n",
       "1970-01-01 00:00:00.000000003      UTC+01         GBP        0.6154  \n",
       "1970-01-01 00:00:00.000000004      UTC-04         USD        0.5333  "
      ]
     },
     "execution_count": 64,
     "metadata": {},
     "output_type": "execute_result"
    }
   ],
   "source": [
    "data"
   ]
  },
  {
   "cell_type": "markdown",
   "id": "daec7903",
   "metadata": {},
   "source": [
    "# Sector Performance"
   ]
  },
  {
   "cell_type": "code",
   "execution_count": 73,
   "id": "fbc7b28a",
   "metadata": {
    "ExecuteTime": {
     "end_time": "2021-10-12T16:12:09.265276Z",
     "start_time": "2021-10-12T16:12:09.255289Z"
    }
   },
   "outputs": [],
   "source": [
    "from alpha_vantage.sectorperformance import SectorPerformances as sp"
   ]
  },
  {
   "cell_type": "markdown",
   "id": "c4ccf223",
   "metadata": {},
   "source": [
    "## Sector Performance"
   ]
  },
  {
   "cell_type": "code",
   "execution_count": 70,
   "id": "fa4fe7c0",
   "metadata": {
    "ExecuteTime": {
     "end_time": "2021-10-12T16:09:24.032230Z",
     "start_time": "2021-10-12T16:09:22.811025Z"
    }
   },
   "outputs": [
    {
     "data": {
      "text/plain": [
       "{'Information': 'US Sector Performance (realtime & historical)',\n",
       " 'Last Refreshed': '2021-10-12 12:09:23 US/Eastern'}"
      ]
     },
     "execution_count": 70,
     "metadata": {},
     "output_type": "execute_result"
    }
   ],
   "source": [
    "## This API returns the realtime and historical sector performances calculated from S&P500 incumbents.\n",
    "data, meta_data = sp('YOUR_API_KEY','pandas').get_sector()\n",
    "meta_data"
   ]
  },
  {
   "cell_type": "code",
   "execution_count": 72,
   "id": "1325f1b7",
   "metadata": {
    "ExecuteTime": {
     "end_time": "2021-10-12T16:11:04.292627Z",
     "start_time": "2021-10-12T16:11:03.959298Z"
    },
    "scrolled": false
   },
   "outputs": [
    {
     "data": {
      "text/html": [
       "<div>\n",
       "<style scoped>\n",
       "    .dataframe tbody tr th:only-of-type {\n",
       "        vertical-align: middle;\n",
       "    }\n",
       "\n",
       "    .dataframe tbody tr th {\n",
       "        vertical-align: top;\n",
       "    }\n",
       "\n",
       "    .dataframe thead th {\n",
       "        text-align: right;\n",
       "    }\n",
       "</style>\n",
       "<table border=\"1\" class=\"dataframe\">\n",
       "  <thead>\n",
       "    <tr style=\"text-align: right;\">\n",
       "      <th></th>\n",
       "      <th>Rank A: Real-Time Performance</th>\n",
       "      <th>Rank B: Day Performance</th>\n",
       "      <th>Rank C: Day Performance</th>\n",
       "      <th>Rank D: Month Performance</th>\n",
       "      <th>Rank E: Month Performance</th>\n",
       "      <th>Rank F: Year-to-Date (YTD) Performance</th>\n",
       "      <th>Rank G: Year Performance</th>\n",
       "      <th>Rank H: Year Performance</th>\n",
       "      <th>Rank I: Year Performance</th>\n",
       "      <th>Rank J: Year Performance</th>\n",
       "    </tr>\n",
       "  </thead>\n",
       "  <tbody>\n",
       "    <tr>\n",
       "      <th>Real Estate</th>\n",
       "      <td>0.0137</td>\n",
       "      <td>0.0017</td>\n",
       "      <td>-0.0069</td>\n",
       "      <td>-0.0451</td>\n",
       "      <td>-0.0271</td>\n",
       "      <td>0.2256</td>\n",
       "      <td>0.2200</td>\n",
       "      <td>0.4216</td>\n",
       "      <td>0.4607</td>\n",
       "      <td>NaN</td>\n",
       "    </tr>\n",
       "    <tr>\n",
       "      <th>Consumer Discretionary</th>\n",
       "      <td>0.0080</td>\n",
       "      <td>-0.0048</td>\n",
       "      <td>0.0149</td>\n",
       "      <td>-0.0120</td>\n",
       "      <td>-0.0204</td>\n",
       "      <td>0.1089</td>\n",
       "      <td>0.1463</td>\n",
       "      <td>0.6756</td>\n",
       "      <td>1.2776</td>\n",
       "      <td>NaN</td>\n",
       "    </tr>\n",
       "    <tr>\n",
       "      <th>Consumer Staples</th>\n",
       "      <td>0.0079</td>\n",
       "      <td>-0.0004</td>\n",
       "      <td>0.0172</td>\n",
       "      <td>-0.0250</td>\n",
       "      <td>0.0018</td>\n",
       "      <td>0.0429</td>\n",
       "      <td>0.0741</td>\n",
       "      <td>0.3224</td>\n",
       "      <td>0.3520</td>\n",
       "      <td>NaN</td>\n",
       "    </tr>\n",
       "    <tr>\n",
       "      <th>Utilities</th>\n",
       "      <td>0.0075</td>\n",
       "      <td>-0.0135</td>\n",
       "      <td>-0.0129</td>\n",
       "      <td>-0.0611</td>\n",
       "      <td>-0.0117</td>\n",
       "      <td>0.0177</td>\n",
       "      <td>0.0067</td>\n",
       "      <td>0.1850</td>\n",
       "      <td>0.3457</td>\n",
       "      <td>NaN</td>\n",
       "    </tr>\n",
       "    <tr>\n",
       "      <th>Industrials</th>\n",
       "      <td>0.0039</td>\n",
       "      <td>-0.0076</td>\n",
       "      <td>0.0154</td>\n",
       "      <td>-0.0148</td>\n",
       "      <td>-0.0323</td>\n",
       "      <td>0.1299</td>\n",
       "      <td>0.2417</td>\n",
       "      <td>0.3389</td>\n",
       "      <td>0.7017</td>\n",
       "      <td>NaN</td>\n",
       "    </tr>\n",
       "    <tr>\n",
       "      <th>Materials</th>\n",
       "      <td>0.0036</td>\n",
       "      <td>0.0003</td>\n",
       "      <td>0.0148</td>\n",
       "      <td>-0.0303</td>\n",
       "      <td>-0.0221</td>\n",
       "      <td>0.1185</td>\n",
       "      <td>0.2194</td>\n",
       "      <td>0.4986</td>\n",
       "      <td>0.7244</td>\n",
       "      <td>NaN</td>\n",
       "    </tr>\n",
       "    <tr>\n",
       "      <th>Financials</th>\n",
       "      <td>0.0030</td>\n",
       "      <td>-0.0101</td>\n",
       "      <td>0.0198</td>\n",
       "      <td>0.0307</td>\n",
       "      <td>0.0527</td>\n",
       "      <td>0.3097</td>\n",
       "      <td>0.5326</td>\n",
       "      <td>0.4211</td>\n",
       "      <td>0.9623</td>\n",
       "      <td>NaN</td>\n",
       "    </tr>\n",
       "    <tr>\n",
       "      <th>Information Technology</th>\n",
       "      <td>0.0023</td>\n",
       "      <td>-0.0053</td>\n",
       "      <td>0.0215</td>\n",
       "      <td>-0.0335</td>\n",
       "      <td>-0.0007</td>\n",
       "      <td>0.1585</td>\n",
       "      <td>0.2556</td>\n",
       "      <td>1.1746</td>\n",
       "      <td>2.2920</td>\n",
       "      <td>NaN</td>\n",
       "    </tr>\n",
       "    <tr>\n",
       "      <th>Energy</th>\n",
       "      <td>0.0015</td>\n",
       "      <td>-0.0041</td>\n",
       "      <td>0.0291</td>\n",
       "      <td>0.1968</td>\n",
       "      <td>0.0708</td>\n",
       "      <td>0.4948</td>\n",
       "      <td>0.8303</td>\n",
       "      <td>-0.2308</td>\n",
       "      <td>-0.1901</td>\n",
       "      <td>-0.1062</td>\n",
       "    </tr>\n",
       "    <tr>\n",
       "      <th>Health Care</th>\n",
       "      <td>0.0003</td>\n",
       "      <td>-0.0075</td>\n",
       "      <td>0.0042</td>\n",
       "      <td>-0.0518</td>\n",
       "      <td>-0.0216</td>\n",
       "      <td>0.1095</td>\n",
       "      <td>0.1628</td>\n",
       "      <td>0.3766</td>\n",
       "      <td>0.7595</td>\n",
       "      <td>2.8856</td>\n",
       "    </tr>\n",
       "    <tr>\n",
       "      <th>Communication Services</th>\n",
       "      <td>-0.0074</td>\n",
       "      <td>-0.0145</td>\n",
       "      <td>0.0054</td>\n",
       "      <td>-0.0523</td>\n",
       "      <td>0.0020</td>\n",
       "      <td>0.2099</td>\n",
       "      <td>0.3522</td>\n",
       "      <td>0.7867</td>\n",
       "      <td>0.6301</td>\n",
       "      <td>NaN</td>\n",
       "    </tr>\n",
       "  </tbody>\n",
       "</table>\n",
       "</div>"
      ],
      "text/plain": [
       "                        Rank A: Real-Time Performance  \\\n",
       "Real Estate                                    0.0137   \n",
       "Consumer Discretionary                         0.0080   \n",
       "Consumer Staples                               0.0079   \n",
       "Utilities                                      0.0075   \n",
       "Industrials                                    0.0039   \n",
       "Materials                                      0.0036   \n",
       "Financials                                     0.0030   \n",
       "Information Technology                         0.0023   \n",
       "Energy                                         0.0015   \n",
       "Health Care                                    0.0003   \n",
       "Communication Services                        -0.0074   \n",
       "\n",
       "                        Rank B: Day Performance  Rank C: Day Performance  \\\n",
       "Real Estate                              0.0017                  -0.0069   \n",
       "Consumer Discretionary                  -0.0048                   0.0149   \n",
       "Consumer Staples                        -0.0004                   0.0172   \n",
       "Utilities                               -0.0135                  -0.0129   \n",
       "Industrials                             -0.0076                   0.0154   \n",
       "Materials                                0.0003                   0.0148   \n",
       "Financials                              -0.0101                   0.0198   \n",
       "Information Technology                  -0.0053                   0.0215   \n",
       "Energy                                  -0.0041                   0.0291   \n",
       "Health Care                             -0.0075                   0.0042   \n",
       "Communication Services                  -0.0145                   0.0054   \n",
       "\n",
       "                        Rank D: Month Performance  Rank E: Month Performance  \\\n",
       "Real Estate                               -0.0451                    -0.0271   \n",
       "Consumer Discretionary                    -0.0120                    -0.0204   \n",
       "Consumer Staples                          -0.0250                     0.0018   \n",
       "Utilities                                 -0.0611                    -0.0117   \n",
       "Industrials                               -0.0148                    -0.0323   \n",
       "Materials                                 -0.0303                    -0.0221   \n",
       "Financials                                 0.0307                     0.0527   \n",
       "Information Technology                    -0.0335                    -0.0007   \n",
       "Energy                                     0.1968                     0.0708   \n",
       "Health Care                               -0.0518                    -0.0216   \n",
       "Communication Services                    -0.0523                     0.0020   \n",
       "\n",
       "                        Rank F: Year-to-Date (YTD) Performance  \\\n",
       "Real Estate                                             0.2256   \n",
       "Consumer Discretionary                                  0.1089   \n",
       "Consumer Staples                                        0.0429   \n",
       "Utilities                                               0.0177   \n",
       "Industrials                                             0.1299   \n",
       "Materials                                               0.1185   \n",
       "Financials                                              0.3097   \n",
       "Information Technology                                  0.1585   \n",
       "Energy                                                  0.4948   \n",
       "Health Care                                             0.1095   \n",
       "Communication Services                                  0.2099   \n",
       "\n",
       "                        Rank G: Year Performance  Rank H: Year Performance  \\\n",
       "Real Estate                               0.2200                    0.4216   \n",
       "Consumer Discretionary                    0.1463                    0.6756   \n",
       "Consumer Staples                          0.0741                    0.3224   \n",
       "Utilities                                 0.0067                    0.1850   \n",
       "Industrials                               0.2417                    0.3389   \n",
       "Materials                                 0.2194                    0.4986   \n",
       "Financials                                0.5326                    0.4211   \n",
       "Information Technology                    0.2556                    1.1746   \n",
       "Energy                                    0.8303                   -0.2308   \n",
       "Health Care                               0.1628                    0.3766   \n",
       "Communication Services                    0.3522                    0.7867   \n",
       "\n",
       "                        Rank I: Year Performance  Rank J: Year Performance  \n",
       "Real Estate                               0.4607                       NaN  \n",
       "Consumer Discretionary                    1.2776                       NaN  \n",
       "Consumer Staples                          0.3520                       NaN  \n",
       "Utilities                                 0.3457                       NaN  \n",
       "Industrials                               0.7017                       NaN  \n",
       "Materials                                 0.7244                       NaN  \n",
       "Financials                                0.9623                       NaN  \n",
       "Information Technology                    2.2920                       NaN  \n",
       "Energy                                   -0.1901                   -0.1062  \n",
       "Health Care                               0.7595                    2.8856  \n",
       "Communication Services                    0.6301                       NaN  "
      ]
     },
     "execution_count": 72,
     "metadata": {},
     "output_type": "execute_result"
    },
    {
     "data": {
      "text/plain": [
       "<AxesSubplot:>"
      ]
     },
     "execution_count": 72,
     "metadata": {},
     "output_type": "execute_result"
    },
    {
     "data": {
      "image/png": "[encoded data removed]",
      "text/plain": [
       "<Figure size 432x288 with 1 Axes>"
      ]
     },
     "metadata": {
      "needs_background": "light"
     },
     "output_type": "display_data"
    }
   ],
   "source": [
    "data\n",
    "data['Rank A: Real-Time Performance'].plot(kind='bar')"
   ]
  },
  {
   "cell_type": "markdown",
   "id": "5b631987",
   "metadata": {},
   "source": [
    "# Fundamental Data"
   ]
  },
  {
   "cell_type": "code",
   "execution_count": 74,
   "id": "4950793f",
   "metadata": {
    "ExecuteTime": {
     "end_time": "2021-10-12T16:15:14.609609Z",
     "start_time": "2021-10-12T16:15:14.590617Z"
    }
   },
   "outputs": [],
   "source": [
    "from alpha_vantage.fundamentaldata import FundamentalData as fd"
   ]
  },
  {
   "cell_type": "markdown",
   "id": "5e5df1c9",
   "metadata": {},
   "source": [
    "## Company Overview"
   ]
  },
  {
   "cell_type": "code",
   "execution_count": 79,
   "id": "66ab243a",
   "metadata": {
    "ExecuteTime": {
     "end_time": "2021-10-12T16:16:11.265157Z",
     "start_time": "2021-10-12T16:16:10.186754Z"
    }
   },
   "outputs": [],
   "source": [
    "data, meta_data = fd('YOUR_API_KEY','pandas').get_company_overview('aapl')\n",
    "meta_data"
   ]
  },
  {
   "cell_type": "code",
   "execution_count": 80,
   "id": "4af2bee5",
   "metadata": {
    "ExecuteTime": {
     "end_time": "2021-10-12T16:16:12.033652Z",
     "start_time": "2021-10-12T16:16:11.995694Z"
    }
   },
   "outputs": [
    {
     "data": {
      "text/html": [
       "<div>\n",
       "<style scoped>\n",
       "    .dataframe tbody tr th:only-of-type {\n",
       "        vertical-align: middle;\n",
       "    }\n",
       "\n",
       "    .dataframe tbody tr th {\n",
       "        vertical-align: top;\n",
       "    }\n",
       "\n",
       "    .dataframe thead th {\n",
       "        text-align: right;\n",
       "    }\n",
       "</style>\n",
       "<table border=\"1\" class=\"dataframe\">\n",
       "  <thead>\n",
       "    <tr style=\"text-align: right;\">\n",
       "      <th></th>\n",
       "      <th>Symbol</th>\n",
       "      <th>AssetType</th>\n",
       "      <th>Name</th>\n",
       "      <th>Description</th>\n",
       "      <th>CIK</th>\n",
       "      <th>Exchange</th>\n",
       "      <th>Currency</th>\n",
       "      <th>Country</th>\n",
       "      <th>Sector</th>\n",
       "      <th>Industry</th>\n",
       "      <th>...</th>\n",
       "      <th>ShortPercentFloat</th>\n",
       "      <th>PercentInsiders</th>\n",
       "      <th>PercentInstitutions</th>\n",
       "      <th>ForwardAnnualDividendRate</th>\n",
       "      <th>ForwardAnnualDividendYield</th>\n",
       "      <th>PayoutRatio</th>\n",
       "      <th>DividendDate</th>\n",
       "      <th>ExDividendDate</th>\n",
       "      <th>LastSplitFactor</th>\n",
       "      <th>LastSplitDate</th>\n",
       "    </tr>\n",
       "  </thead>\n",
       "  <tbody>\n",
       "    <tr>\n",
       "      <th>NaN</th>\n",
       "      <td>AAPL</td>\n",
       "      <td>Common Stock</td>\n",
       "      <td>Apple Inc</td>\n",
       "      <td>Apple Inc. is an American multinational techno...</td>\n",
       "      <td>320193</td>\n",
       "      <td>NASDAQ</td>\n",
       "      <td>USD</td>\n",
       "      <td>USA</td>\n",
       "      <td>TECHNOLOGY</td>\n",
       "      <td>ELECTRONIC COMPUTERS</td>\n",
       "      <td>...</td>\n",
       "      <td>0.0061</td>\n",
       "      <td>0.073</td>\n",
       "      <td>58.69</td>\n",
       "      <td>0.88</td>\n",
       "      <td>0.0062</td>\n",
       "      <td>0.166</td>\n",
       "      <td>2021-08-12</td>\n",
       "      <td>2021-08-06</td>\n",
       "      <td>4:1</td>\n",
       "      <td>2020-08-31</td>\n",
       "    </tr>\n",
       "  </tbody>\n",
       "</table>\n",
       "<p>1 rows × 59 columns</p>\n",
       "</div>"
      ],
      "text/plain": [
       "    Symbol     AssetType       Name  \\\n",
       "NaN   AAPL  Common Stock  Apple Inc   \n",
       "\n",
       "                                           Description     CIK Exchange  \\\n",
       "NaN  Apple Inc. is an American multinational techno...  320193   NASDAQ   \n",
       "\n",
       "    Currency Country      Sector              Industry  ... ShortPercentFloat  \\\n",
       "NaN      USD     USA  TECHNOLOGY  ELECTRONIC COMPUTERS  ...            0.0061   \n",
       "\n",
       "    PercentInsiders PercentInstitutions ForwardAnnualDividendRate  \\\n",
       "NaN           0.073               58.69                      0.88   \n",
       "\n",
       "    ForwardAnnualDividendYield PayoutRatio DividendDate ExDividendDate  \\\n",
       "NaN                     0.0062       0.166   2021-08-12     2021-08-06   \n",
       "\n",
       "    LastSplitFactor LastSplitDate  \n",
       "NaN             4:1    2020-08-31  \n",
       "\n",
       "[1 rows x 59 columns]"
      ]
     },
     "execution_count": 80,
     "metadata": {},
     "output_type": "execute_result"
    }
   ],
   "source": [
    "data"
   ]
  },
  {
   "cell_type": "markdown",
   "id": "8549af29",
   "metadata": {},
   "source": [
    "# Foreign Exchange (FX)"
   ]
  },
  {
   "cell_type": "code",
   "execution_count": 82,
   "id": "5af5676e",
   "metadata": {
    "ExecuteTime": {
     "end_time": "2021-10-12T16:17:54.152769Z",
     "start_time": "2021-10-12T16:17:54.146797Z"
    }
   },
   "outputs": [],
   "source": [
    "from alpha_vantage.foreignexchange import ForeignExchange as fx"
   ]
  },
  {
   "cell_type": "markdown",
   "id": "041fefe8",
   "metadata": {},
   "source": [
    "## Fx Intraday"
   ]
  },
  {
   "cell_type": "code",
   "execution_count": 94,
   "id": "5bee29ba",
   "metadata": {
    "ExecuteTime": {
     "end_time": "2021-10-12T16:22:48.385051Z",
     "start_time": "2021-10-12T16:22:47.188356Z"
    }
   },
   "outputs": [
    {
     "data": {
      "text/plain": [
       "{'1. Information': 'FX Intraday (15min) Time Series',\n",
       " '2. From Symbol': 'EUR',\n",
       " '3. To Symbol': 'USD',\n",
       " '4. Last Refreshed': '2021-10-12 16:15:00',\n",
       " '5. Interval': '15min',\n",
       " '6. Output Size': 'Compact',\n",
       " '7. Time Zone': 'UTC'}"
      ]
     },
     "execution_count": 94,
     "metadata": {},
     "output_type": "execute_result"
    }
   ],
   "source": [
    "data, meta_data = fx('YOUR_API_KEY','pandas').get_currency_exchange_intraday('EUR','USD','15min','compact')\n",
    "meta_data"
   ]
  },
  {
   "cell_type": "code",
   "execution_count": 95,
   "id": "24e116e8",
   "metadata": {
    "ExecuteTime": {
     "end_time": "2021-10-12T16:22:51.038300Z",
     "start_time": "2021-10-12T16:22:50.729503Z"
    }
   },
   "outputs": [
    {
     "data": {
      "text/html": [
       "<div>\n",
       "<style scoped>\n",
       "    .dataframe tbody tr th:only-of-type {\n",
       "        vertical-align: middle;\n",
       "    }\n",
       "\n",
       "    .dataframe tbody tr th {\n",
       "        vertical-align: top;\n",
       "    }\n",
       "\n",
       "    .dataframe thead th {\n",
       "        text-align: right;\n",
       "    }\n",
       "</style>\n",
       "<table border=\"1\" class=\"dataframe\">\n",
       "  <thead>\n",
       "    <tr style=\"text-align: right;\">\n",
       "      <th></th>\n",
       "      <th>1. open</th>\n",
       "      <th>2. high</th>\n",
       "      <th>3. low</th>\n",
       "      <th>4. close</th>\n",
       "    </tr>\n",
       "    <tr>\n",
       "      <th>date</th>\n",
       "      <th></th>\n",
       "      <th></th>\n",
       "      <th></th>\n",
       "      <th></th>\n",
       "    </tr>\n",
       "  </thead>\n",
       "  <tbody>\n",
       "    <tr>\n",
       "      <th>2021-10-12 16:15:00</th>\n",
       "      <td>1.15447</td>\n",
       "      <td>1.15447</td>\n",
       "      <td>1.15420</td>\n",
       "      <td>1.15420</td>\n",
       "    </tr>\n",
       "    <tr>\n",
       "      <th>2021-10-12 16:00:00</th>\n",
       "      <td>1.15000</td>\n",
       "      <td>1.16000</td>\n",
       "      <td>1.15000</td>\n",
       "      <td>1.15000</td>\n",
       "    </tr>\n",
       "    <tr>\n",
       "      <th>2021-10-12 15:45:00</th>\n",
       "      <td>1.15407</td>\n",
       "      <td>1.15434</td>\n",
       "      <td>1.15393</td>\n",
       "      <td>1.15434</td>\n",
       "    </tr>\n",
       "    <tr>\n",
       "      <th>2021-10-12 15:30:00</th>\n",
       "      <td>1.15460</td>\n",
       "      <td>1.15500</td>\n",
       "      <td>1.15393</td>\n",
       "      <td>1.15393</td>\n",
       "    </tr>\n",
       "    <tr>\n",
       "      <th>2021-10-12 15:15:00</th>\n",
       "      <td>1.15500</td>\n",
       "      <td>1.15540</td>\n",
       "      <td>1.15460</td>\n",
       "      <td>1.15473</td>\n",
       "    </tr>\n",
       "    <tr>\n",
       "      <th>...</th>\n",
       "      <td>...</td>\n",
       "      <td>...</td>\n",
       "      <td>...</td>\n",
       "      <td>...</td>\n",
       "    </tr>\n",
       "    <tr>\n",
       "      <th>2021-10-11 16:30:00</th>\n",
       "      <td>1.15714</td>\n",
       "      <td>1.15741</td>\n",
       "      <td>1.15687</td>\n",
       "      <td>1.15687</td>\n",
       "    </tr>\n",
       "    <tr>\n",
       "      <th>2021-10-11 16:15:00</th>\n",
       "      <td>1.15727</td>\n",
       "      <td>1.15727</td>\n",
       "      <td>1.15714</td>\n",
       "      <td>1.15727</td>\n",
       "    </tr>\n",
       "    <tr>\n",
       "      <th>2021-10-11 16:00:00</th>\n",
       "      <td>1.16000</td>\n",
       "      <td>1.16000</td>\n",
       "      <td>1.16000</td>\n",
       "      <td>1.16000</td>\n",
       "    </tr>\n",
       "    <tr>\n",
       "      <th>2021-10-11 15:45:00</th>\n",
       "      <td>1.15781</td>\n",
       "      <td>1.15781</td>\n",
       "      <td>1.15741</td>\n",
       "      <td>1.15754</td>\n",
       "    </tr>\n",
       "    <tr>\n",
       "      <th>2021-10-11 15:30:00</th>\n",
       "      <td>1.15768</td>\n",
       "      <td>1.15781</td>\n",
       "      <td>1.15754</td>\n",
       "      <td>1.15781</td>\n",
       "    </tr>\n",
       "  </tbody>\n",
       "</table>\n",
       "<p>100 rows × 4 columns</p>\n",
       "</div>"
      ],
      "text/plain": [
       "                     1. open  2. high   3. low  4. close\n",
       "date                                                    \n",
       "2021-10-12 16:15:00  1.15447  1.15447  1.15420   1.15420\n",
       "2021-10-12 16:00:00  1.15000  1.16000  1.15000   1.15000\n",
       "2021-10-12 15:45:00  1.15407  1.15434  1.15393   1.15434\n",
       "2021-10-12 15:30:00  1.15460  1.15500  1.15393   1.15393\n",
       "2021-10-12 15:15:00  1.15500  1.15540  1.15460   1.15473\n",
       "...                      ...      ...      ...       ...\n",
       "2021-10-11 16:30:00  1.15714  1.15741  1.15687   1.15687\n",
       "2021-10-11 16:15:00  1.15727  1.15727  1.15714   1.15727\n",
       "2021-10-11 16:00:00  1.16000  1.16000  1.16000   1.16000\n",
       "2021-10-11 15:45:00  1.15781  1.15781  1.15741   1.15754\n",
       "2021-10-11 15:30:00  1.15768  1.15781  1.15754   1.15781\n",
       "\n",
       "[100 rows x 4 columns]"
      ]
     },
     "execution_count": 95,
     "metadata": {},
     "output_type": "execute_result"
    },
    {
     "data": {
      "text/plain": [
       "<AxesSubplot:xlabel='date'>"
      ]
     },
     "execution_count": 95,
     "metadata": {},
     "output_type": "execute_result"
    },
    {
     "data": {
      "image/png": "[encoded data removed]",
      "text/plain": [
       "<Figure size 432x288 with 1 Axes>"
      ]
     },
     "metadata": {
      "needs_background": "light"
     },
     "output_type": "display_data"
    }
   ],
   "source": [
    "data\n",
    "data['4. close'].plot()"
   ]
  },
  {
   "cell_type": "markdown",
   "id": "84beed3e",
   "metadata": {},
   "source": [
    "# Digital & Crypto Currencies"
   ]
  },
  {
   "cell_type": "code",
   "execution_count": 96,
   "id": "a97b6bed",
   "metadata": {
    "ExecuteTime": {
     "end_time": "2021-10-12T16:24:15.420823Z",
     "start_time": "2021-10-12T16:24:15.414825Z"
    }
   },
   "outputs": [],
   "source": [
    "from alpha_vantage.cryptocurrencies import CryptoCurrencies as cc"
   ]
  },
  {
   "cell_type": "markdown",
   "id": "7f682bc2",
   "metadata": {},
   "source": [
    "## Crypto Daily"
   ]
  },
  {
   "cell_type": "code",
   "execution_count": 108,
   "id": "d6b42296",
   "metadata": {
    "ExecuteTime": {
     "end_time": "2021-10-12T16:28:33.000024Z",
     "start_time": "2021-10-12T16:28:31.572600Z"
    }
   },
   "outputs": [
    {
     "data": {
      "text/plain": [
       "{'1. Information': 'Daily Prices and Volumes for Digital Currency',\n",
       " '2. Digital Currency Code': 'BTC',\n",
       " '3. Digital Currency Name': 'Bitcoin',\n",
       " '4. Market Code': 'USD',\n",
       " '5. Market Name': 'United States Dollar',\n",
       " '6. Last Refreshed': '2021-10-12 00:00:00',\n",
       " '7. Time Zone': 'UTC'}"
      ]
     },
     "execution_count": 108,
     "metadata": {},
     "output_type": "execute_result"
    }
   ],
   "source": [
    "data, meta_data = cc('YOUR_API_KEY','pandas').get_digital_currency_daily('BTC','USD')\n",
    "meta_data"
   ]
  },
  {
   "cell_type": "code",
   "execution_count": 109,
   "id": "b35220e5",
   "metadata": {
    "ExecuteTime": {
     "end_time": "2021-10-12T16:28:35.502633Z",
     "start_time": "2021-10-12T16:28:34.926959Z"
    }
   },
   "outputs": [
    {
     "data": {
      "text/html": [
       "<div>\n",
       "<style scoped>\n",
       "    .dataframe tbody tr th:only-of-type {\n",
       "        vertical-align: middle;\n",
       "    }\n",
       "\n",
       "    .dataframe tbody tr th {\n",
       "        vertical-align: top;\n",
       "    }\n",
       "\n",
       "    .dataframe thead th {\n",
       "        text-align: right;\n",
       "    }\n",
       "</style>\n",
       "<table border=\"1\" class=\"dataframe\">\n",
       "  <thead>\n",
       "    <tr style=\"text-align: right;\">\n",
       "      <th></th>\n",
       "      <th>1a. open (USD)</th>\n",
       "      <th>1b. open (USD)</th>\n",
       "      <th>2a. high (USD)</th>\n",
       "      <th>2b. high (USD)</th>\n",
       "      <th>3a. low (USD)</th>\n",
       "      <th>3b. low (USD)</th>\n",
       "      <th>4a. close (USD)</th>\n",
       "      <th>4b. close (USD)</th>\n",
       "      <th>5. volume</th>\n",
       "      <th>6. market cap (USD)</th>\n",
       "    </tr>\n",
       "    <tr>\n",
       "      <th>date</th>\n",
       "      <th></th>\n",
       "      <th></th>\n",
       "      <th></th>\n",
       "      <th></th>\n",
       "      <th></th>\n",
       "      <th></th>\n",
       "      <th></th>\n",
       "      <th></th>\n",
       "      <th></th>\n",
       "      <th></th>\n",
       "    </tr>\n",
       "  </thead>\n",
       "  <tbody>\n",
       "    <tr>\n",
       "      <th>2021-10-12</th>\n",
       "      <td>57471.35</td>\n",
       "      <td>57471.35</td>\n",
       "      <td>57471.35</td>\n",
       "      <td>57471.35</td>\n",
       "      <td>56665.30</td>\n",
       "      <td>56665.30</td>\n",
       "      <td>56720.70</td>\n",
       "      <td>56720.70</td>\n",
       "      <td>1732.873050</td>\n",
       "      <td>1732.873050</td>\n",
       "    </tr>\n",
       "    <tr>\n",
       "      <th>2021-10-11</th>\n",
       "      <td>54659.01</td>\n",
       "      <td>54659.01</td>\n",
       "      <td>57839.04</td>\n",
       "      <td>57839.04</td>\n",
       "      <td>54415.06</td>\n",
       "      <td>54415.06</td>\n",
       "      <td>57471.35</td>\n",
       "      <td>57471.35</td>\n",
       "      <td>52933.165751</td>\n",
       "      <td>52933.165751</td>\n",
       "    </tr>\n",
       "    <tr>\n",
       "      <th>2021-10-10</th>\n",
       "      <td>54949.72</td>\n",
       "      <td>54949.72</td>\n",
       "      <td>56561.31</td>\n",
       "      <td>56561.31</td>\n",
       "      <td>54080.00</td>\n",
       "      <td>54080.00</td>\n",
       "      <td>54659.00</td>\n",
       "      <td>54659.00</td>\n",
       "      <td>89237.836128</td>\n",
       "      <td>89237.836128</td>\n",
       "    </tr>\n",
       "    <tr>\n",
       "      <th>2021-10-09</th>\n",
       "      <td>53955.67</td>\n",
       "      <td>53955.67</td>\n",
       "      <td>55489.00</td>\n",
       "      <td>55489.00</td>\n",
       "      <td>53661.67</td>\n",
       "      <td>53661.67</td>\n",
       "      <td>54949.72</td>\n",
       "      <td>54949.72</td>\n",
       "      <td>55177.080130</td>\n",
       "      <td>55177.080130</td>\n",
       "    </tr>\n",
       "    <tr>\n",
       "      <th>2021-10-08</th>\n",
       "      <td>53785.22</td>\n",
       "      <td>53785.22</td>\n",
       "      <td>56100.00</td>\n",
       "      <td>56100.00</td>\n",
       "      <td>53617.61</td>\n",
       "      <td>53617.61</td>\n",
       "      <td>53951.43</td>\n",
       "      <td>53951.43</td>\n",
       "      <td>46160.257850</td>\n",
       "      <td>46160.257850</td>\n",
       "    </tr>\n",
       "    <tr>\n",
       "      <th>...</th>\n",
       "      <td>...</td>\n",
       "      <td>...</td>\n",
       "      <td>...</td>\n",
       "      <td>...</td>\n",
       "      <td>...</td>\n",
       "      <td>...</td>\n",
       "      <td>...</td>\n",
       "      <td>...</td>\n",
       "      <td>...</td>\n",
       "      <td>...</td>\n",
       "    </tr>\n",
       "    <tr>\n",
       "      <th>2019-01-21</th>\n",
       "      <td>3539.26</td>\n",
       "      <td>3539.26</td>\n",
       "      <td>3559.51</td>\n",
       "      <td>3559.51</td>\n",
       "      <td>3475.50</td>\n",
       "      <td>3475.50</td>\n",
       "      <td>3526.90</td>\n",
       "      <td>3526.90</td>\n",
       "      <td>19644.436839</td>\n",
       "      <td>19644.436839</td>\n",
       "    </tr>\n",
       "    <tr>\n",
       "      <th>2019-01-20</th>\n",
       "      <td>3665.75</td>\n",
       "      <td>3665.75</td>\n",
       "      <td>3693.73</td>\n",
       "      <td>3693.73</td>\n",
       "      <td>3475.00</td>\n",
       "      <td>3475.00</td>\n",
       "      <td>3539.28</td>\n",
       "      <td>3539.28</td>\n",
       "      <td>27901.938598</td>\n",
       "      <td>27901.938598</td>\n",
       "    </tr>\n",
       "    <tr>\n",
       "      <th>2019-01-19</th>\n",
       "      <td>3594.87</td>\n",
       "      <td>3594.87</td>\n",
       "      <td>3720.00</td>\n",
       "      <td>3720.00</td>\n",
       "      <td>3594.23</td>\n",
       "      <td>3594.23</td>\n",
       "      <td>3665.30</td>\n",
       "      <td>3665.30</td>\n",
       "      <td>22171.578123</td>\n",
       "      <td>22171.578123</td>\n",
       "    </tr>\n",
       "    <tr>\n",
       "      <th>2019-01-18</th>\n",
       "      <td>3613.32</td>\n",
       "      <td>3613.32</td>\n",
       "      <td>3620.00</td>\n",
       "      <td>3620.00</td>\n",
       "      <td>3565.75</td>\n",
       "      <td>3565.75</td>\n",
       "      <td>3594.87</td>\n",
       "      <td>3594.87</td>\n",
       "      <td>22713.446755</td>\n",
       "      <td>22713.446755</td>\n",
       "    </tr>\n",
       "    <tr>\n",
       "      <th>2019-01-17</th>\n",
       "      <td>3591.84</td>\n",
       "      <td>3591.84</td>\n",
       "      <td>3634.70</td>\n",
       "      <td>3634.70</td>\n",
       "      <td>3530.39</td>\n",
       "      <td>3530.39</td>\n",
       "      <td>3616.21</td>\n",
       "      <td>3616.21</td>\n",
       "      <td>29755.440838</td>\n",
       "      <td>29755.440838</td>\n",
       "    </tr>\n",
       "  </tbody>\n",
       "</table>\n",
       "<p>1000 rows × 10 columns</p>\n",
       "</div>"
      ],
      "text/plain": [
       "            1a. open (USD)  1b. open (USD)  2a. high (USD)  2b. high (USD)  \\\n",
       "date                                                                         \n",
       "2021-10-12        57471.35        57471.35        57471.35        57471.35   \n",
       "2021-10-11        54659.01        54659.01        57839.04        57839.04   \n",
       "2021-10-10        54949.72        54949.72        56561.31        56561.31   \n",
       "2021-10-09        53955.67        53955.67        55489.00        55489.00   \n",
       "2021-10-08        53785.22        53785.22        56100.00        56100.00   \n",
       "...                    ...             ...             ...             ...   \n",
       "2019-01-21         3539.26         3539.26         3559.51         3559.51   \n",
       "2019-01-20         3665.75         3665.75         3693.73         3693.73   \n",
       "2019-01-19         3594.87         3594.87         3720.00         3720.00   \n",
       "2019-01-18         3613.32         3613.32         3620.00         3620.00   \n",
       "2019-01-17         3591.84         3591.84         3634.70         3634.70   \n",
       "\n",
       "            3a. low (USD)  3b. low (USD)  4a. close (USD)  4b. close (USD)  \\\n",
       "date                                                                         \n",
       "2021-10-12       56665.30       56665.30         56720.70         56720.70   \n",
       "2021-10-11       54415.06       54415.06         57471.35         57471.35   \n",
       "2021-10-10       54080.00       54080.00         54659.00         54659.00   \n",
       "2021-10-09       53661.67       53661.67         54949.72         54949.72   \n",
       "2021-10-08       53617.61       53617.61         53951.43         53951.43   \n",
       "...                   ...            ...              ...              ...   \n",
       "2019-01-21        3475.50        3475.50          3526.90          3526.90   \n",
       "2019-01-20        3475.00        3475.00          3539.28          3539.28   \n",
       "2019-01-19        3594.23        3594.23          3665.30          3665.30   \n",
       "2019-01-18        3565.75        3565.75          3594.87          3594.87   \n",
       "2019-01-17        3530.39        3530.39          3616.21          3616.21   \n",
       "\n",
       "               5. volume  6. market cap (USD)  \n",
       "date                                           \n",
       "2021-10-12   1732.873050          1732.873050  \n",
       "2021-10-11  52933.165751         52933.165751  \n",
       "2021-10-10  89237.836128         89237.836128  \n",
       "2021-10-09  55177.080130         55177.080130  \n",
       "2021-10-08  46160.257850         46160.257850  \n",
       "...                  ...                  ...  \n",
       "2019-01-21  19644.436839         19644.436839  \n",
       "2019-01-20  27901.938598         27901.938598  \n",
       "2019-01-19  22171.578123         22171.578123  \n",
       "2019-01-18  22713.446755         22713.446755  \n",
       "2019-01-17  29755.440838         29755.440838  \n",
       "\n",
       "[1000 rows x 10 columns]"
      ]
     },
     "execution_count": 109,
     "metadata": {},
     "output_type": "execute_result"
    },
    {
     "data": {
      "text/plain": [
       "<AxesSubplot:xlabel='date'>"
      ]
     },
     "execution_count": 109,
     "metadata": {},
     "output_type": "execute_result"
    },
    {
     "data": {
      "image/png": "[encoded data removed]",
      "text/plain": [
       "<Figure size 432x288 with 1 Axes>"
      ]
     },
     "metadata": {
      "needs_background": "light"
     },
     "output_type": "display_data"
    }
   ],
   "source": [
    "data\n",
    "data['4a. close (USD)'].plot()"
   ]
  },
  {
   "cell_type": "markdown",
   "id": "794c80d4",
   "metadata": {},
   "source": [
    "# Technical Indicators(Only Stocks)"
   ]
  },
  {
   "cell_type": "code",
   "execution_count": 110,
   "id": "186682dc",
   "metadata": {
    "ExecuteTime": {
     "end_time": "2021-10-12T16:33:27.426232Z",
     "start_time": "2021-10-12T16:33:27.407242Z"
    }
   },
   "outputs": [],
   "source": [
    "from alpha_vantage.techindicators import TechIndicators as ta"
   ]
  },
  {
   "cell_type": "markdown",
   "id": "1af3c836",
   "metadata": {},
   "source": [
    "## BB"
   ]
  },
  {
   "cell_type": "code",
   "execution_count": 118,
   "id": "532d51c0",
   "metadata": {
    "ExecuteTime": {
     "end_time": "2021-10-12T16:37:09.951254Z",
     "start_time": "2021-10-12T16:37:08.447598Z"
    }
   },
   "outputs": [
    {
     "data": {
      "text/plain": [
       "{'1: Symbol': 'aapl',\n",
       " '2: Indicator': 'Bollinger Bands (BBANDS)',\n",
       " '3: Last Refreshed': '2021-10-11 20:00:00',\n",
       " '4: Interval': '15min',\n",
       " '5: Time Period': 20,\n",
       " '6.1: Deviation multiplier for upper band': 2,\n",
       " '6.2: Deviation multiplier for lower band': 2,\n",
       " '6.3: MA Type': 0,\n",
       " '7: Series Type': 'close',\n",
       " '8: Time Zone': 'US/Eastern Time'}"
      ]
     },
     "execution_count": 118,
     "metadata": {},
     "output_type": "execute_result"
    }
   ],
   "source": [
    "data, meta_data = ta('YOUR_API_KEY','pandas').get_bbands('aapl','15min',time_period=20,series_type='close')\n",
    "meta_data"
   ]
  },
  {
   "cell_type": "code",
   "execution_count": 121,
   "id": "40e6ed50",
   "metadata": {
    "ExecuteTime": {
     "end_time": "2021-10-12T16:37:42.998406Z",
     "start_time": "2021-10-12T16:37:42.659085Z"
    }
   },
   "outputs": [
    {
     "data": {
      "text/html": [
       "<div>\n",
       "<style scoped>\n",
       "    .dataframe tbody tr th:only-of-type {\n",
       "        vertical-align: middle;\n",
       "    }\n",
       "\n",
       "    .dataframe tbody tr th {\n",
       "        vertical-align: top;\n",
       "    }\n",
       "\n",
       "    .dataframe thead th {\n",
       "        text-align: right;\n",
       "    }\n",
       "</style>\n",
       "<table border=\"1\" class=\"dataframe\">\n",
       "  <thead>\n",
       "    <tr style=\"text-align: right;\">\n",
       "      <th></th>\n",
       "      <th>Real Upper Band</th>\n",
       "      <th>Real Lower Band</th>\n",
       "      <th>Real Middle Band</th>\n",
       "    </tr>\n",
       "    <tr>\n",
       "      <th>date</th>\n",
       "      <th></th>\n",
       "      <th></th>\n",
       "      <th></th>\n",
       "    </tr>\n",
       "  </thead>\n",
       "  <tbody>\n",
       "    <tr>\n",
       "      <th>2021-10-11 20:00:00</th>\n",
       "      <td>143.2183</td>\n",
       "      <td>142.1637</td>\n",
       "      <td>142.6910</td>\n",
       "    </tr>\n",
       "    <tr>\n",
       "      <th>2021-10-11 19:45:00</th>\n",
       "      <td>143.3425</td>\n",
       "      <td>142.1215</td>\n",
       "      <td>142.7320</td>\n",
       "    </tr>\n",
       "    <tr>\n",
       "      <th>2021-10-11 19:30:00</th>\n",
       "      <td>143.4599</td>\n",
       "      <td>142.0946</td>\n",
       "      <td>142.7772</td>\n",
       "    </tr>\n",
       "    <tr>\n",
       "      <th>2021-10-11 19:15:00</th>\n",
       "      <td>143.5914</td>\n",
       "      <td>142.0681</td>\n",
       "      <td>142.8297</td>\n",
       "    </tr>\n",
       "    <tr>\n",
       "      <th>2021-10-11 19:00:00</th>\n",
       "      <td>143.7365</td>\n",
       "      <td>142.0470</td>\n",
       "      <td>142.8917</td>\n",
       "    </tr>\n",
       "    <tr>\n",
       "      <th>...</th>\n",
       "      <td>...</td>\n",
       "      <td>...</td>\n",
       "      <td>...</td>\n",
       "    </tr>\n",
       "    <tr>\n",
       "      <th>2021-08-30 10:00:00</th>\n",
       "      <td>150.0868</td>\n",
       "      <td>147.9287</td>\n",
       "      <td>149.0078</td>\n",
       "    </tr>\n",
       "    <tr>\n",
       "      <th>2021-08-30 09:45:00</th>\n",
       "      <td>149.6229</td>\n",
       "      <td>148.1791</td>\n",
       "      <td>148.9010</td>\n",
       "    </tr>\n",
       "    <tr>\n",
       "      <th>2021-08-30 09:30:00</th>\n",
       "      <td>149.0015</td>\n",
       "      <td>148.6195</td>\n",
       "      <td>148.8105</td>\n",
       "    </tr>\n",
       "    <tr>\n",
       "      <th>2021-08-30 09:15:00</th>\n",
       "      <td>148.9764</td>\n",
       "      <td>148.6086</td>\n",
       "      <td>148.7925</td>\n",
       "    </tr>\n",
       "    <tr>\n",
       "      <th>2021-08-30 09:00:00</th>\n",
       "      <td>148.9687</td>\n",
       "      <td>148.5953</td>\n",
       "      <td>148.7820</td>\n",
       "    </tr>\n",
       "  </tbody>\n",
       "</table>\n",
       "<p>1895 rows × 3 columns</p>\n",
       "</div>"
      ],
      "text/plain": [
       "                     Real Upper Band  Real Lower Band  Real Middle Band\n",
       "date                                                                   \n",
       "2021-10-11 20:00:00         143.2183         142.1637          142.6910\n",
       "2021-10-11 19:45:00         143.3425         142.1215          142.7320\n",
       "2021-10-11 19:30:00         143.4599         142.0946          142.7772\n",
       "2021-10-11 19:15:00         143.5914         142.0681          142.8297\n",
       "2021-10-11 19:00:00         143.7365         142.0470          142.8917\n",
       "...                              ...              ...               ...\n",
       "2021-08-30 10:00:00         150.0868         147.9287          149.0078\n",
       "2021-08-30 09:45:00         149.6229         148.1791          148.9010\n",
       "2021-08-30 09:30:00         149.0015         148.6195          148.8105\n",
       "2021-08-30 09:15:00         148.9764         148.6086          148.7925\n",
       "2021-08-30 09:00:00         148.9687         148.5953          148.7820\n",
       "\n",
       "[1895 rows x 3 columns]"
      ]
     },
     "execution_count": 121,
     "metadata": {},
     "output_type": "execute_result"
    },
    {
     "data": {
      "text/plain": [
       "<AxesSubplot:xlabel='date'>"
      ]
     },
     "execution_count": 121,
     "metadata": {},
     "output_type": "execute_result"
    },
    {
     "data": {
      "image/png": "[encoded data removed]",
      "text/plain": [
       "<Figure size 432x288 with 1 Axes>"
      ]
     },
     "metadata": {
      "needs_background": "light"
     },
     "output_type": "display_data"
    }
   ],
   "source": [
    "data\n",
    "data.head(50).plot()"
   ]
  },
  {
   "cell_type": "markdown",
   "id": "7403f81b",
   "metadata": {},
   "source": [
    "# Conclusion"
   ]
  },
  {
   "cell_type": "markdown",
   "id": "98950fca",
   "metadata": {},
   "source": [
    "- 주식, FX 분단위 데이터(Timeseries) 지원(kr 미지원)\n",
    "- 선물 데이터 미지원 -> fdr 데이터(일단위)로 대체\n",
    "- 암호화폐 분단위 데이터 미지원 -> CCXT로 대체\n",
    "- S&P500의 Sector performance 지원\n",
    "- Technical Indicators -> TA-Lib으로 대체"
   ]
  }
 ],
 "metadata": {
  "kernelspec": {
   "display_name": "Python 3",
   "language": "python",
   "name": "python3"
  },
  "language_info": {
   "codemirror_mode": {
    "name": "ipython",
    "version": 3
   },
   "file_extension": ".py",
   "mimetype": "text/x-python",
   "name": "python",
   "nbconvert_exporter": "python",
   "pygments_lexer": "ipython3",
   "version": "3.8.11"
  },
  "toc": {
   "base_numbering": 1,
   "nav_menu": {},
   "number_sections": false,
   "sideBar": true,
   "skip_h1_title": false,
   "title_cell": "Table of Contents",
   "title_sidebar": "Contents",
   "toc_cell": true,
   "toc_position": {
    "height": "calc(100% - 180px)",
    "left": "10px",
    "top": "150px",
    "width": "165px"
   },
   "toc_section_display": true,
   "toc_window_display": true
  },
  "varInspector": {
   "cols": {
    "lenName": 16,
    "lenType": 16,
    "lenVar": 40
   },
   "kernels_config": {
    "python": {
     "delete_cmd_postfix": "",
     "delete_cmd_prefix": "del ",
     "library": "var_list.py",
     "varRefreshCmd": "print(var_dic_list())"
    },
    "r": {
     "delete_cmd_postfix": ") ",
     "delete_cmd_prefix": "rm(",
     "library": "var_list.r",
     "varRefreshCmd": "cat(var_dic_list()) "
    }
   },
   "types_to_exclude": [
    "module",
    "function",
    "builtin_function_or_method",
    "instance",
    "_Feature"
   ],
   "window_display": false
  }
 },
 "nbformat": 4,
 "nbformat_minor": 5
}
